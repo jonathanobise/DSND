{
  "nbformat": 4,
  "nbformat_minor": 0,
  "metadata": {
    "colab": {
      "name": "Data Science Nanodegree | Data Science Bog Project 1.ipynb",
      "provenance": [],
      "toc_visible": true
    },
    "kernelspec": {
      "name": "python3",
      "display_name": "Python 3"
    }
  },
  "cells": [
    {
      "cell_type": "markdown",
      "metadata": {
        "id": "2nx7lZeUzmdP",
        "colab_type": "text"
      },
      "source": [
        "# **Data Science Nanodegree | Data Science Bog Project 1**"
      ]
    },
    {
      "cell_type": "markdown",
      "metadata": {
        "id": "WLbiBTaG2cTf",
        "colab_type": "text"
      },
      "source": [
        "# 1.0 Introduction "
      ]
    },
    {
      "cell_type": "markdown",
      "metadata": {
        "id": "TaVzwQby7QU4",
        "colab_type": "text"
      },
      "source": [
        "Using the CRISP-DM (Cross-Industry Standard Process for Data Mining) process, we take a look at exploring the 2019 [Stack Overflow Annual Developer Survey Data](https://insights.stackoverflow.com/survey).\n",
        "\n",
        "These are the questions to be answered:\n",
        "\n",
        "+ Where do the developers in the top 40 countries work from?\n",
        "+ What operating systems are the most used by developers in the top 40 countries?\n",
        "+ What is the employment type of developers in the top 40 countries?\n",
        "\n"
      ]
    },
    {
      "cell_type": "markdown",
      "metadata": {
        "id": "4LNO1fX-0AtE",
        "colab_type": "text"
      },
      "source": [
        "# 2.0 Data Acquisition and Preparation"
      ]
    },
    {
      "cell_type": "code",
      "metadata": {
        "id": "yhxQ7bUH0FXq",
        "colab_type": "code",
        "colab": {}
      },
      "source": [
        "# Get all the necessary libraries needed\n",
        "import pandas as pd\n",
        "import matplotlib.pyplot as plt"
      ],
      "execution_count": 0,
      "outputs": []
    },
    {
      "cell_type": "code",
      "metadata": {
        "id": "tuNsuvGLCSCT",
        "colab_type": "code",
        "outputId": "fc7e7d03-c131-4455-ceb0-ac56fcc87b24",
        "colab": {
          "base_uri": "https://localhost:8080/",
          "height": 494
        }
      },
      "source": [
        "# Load the data and view a snapshot\n",
        "data = pd.read_csv(\"/content/drive/My Drive/stackoverflow developer_survey_2019/survey_results_public.csv\")\n",
        "data.head(3)"
      ],
      "execution_count": 3,
      "outputs": [
        {
          "output_type": "execute_result",
          "data": {
            "text/html": [
              "<div>\n",
              "<style scoped>\n",
              "    .dataframe tbody tr th:only-of-type {\n",
              "        vertical-align: middle;\n",
              "    }\n",
              "\n",
              "    .dataframe tbody tr th {\n",
              "        vertical-align: top;\n",
              "    }\n",
              "\n",
              "    .dataframe thead th {\n",
              "        text-align: right;\n",
              "    }\n",
              "</style>\n",
              "<table border=\"1\" class=\"dataframe\">\n",
              "  <thead>\n",
              "    <tr style=\"text-align: right;\">\n",
              "      <th></th>\n",
              "      <th>Respondent</th>\n",
              "      <th>MainBranch</th>\n",
              "      <th>Hobbyist</th>\n",
              "      <th>OpenSourcer</th>\n",
              "      <th>OpenSource</th>\n",
              "      <th>Employment</th>\n",
              "      <th>Country</th>\n",
              "      <th>Student</th>\n",
              "      <th>EdLevel</th>\n",
              "      <th>UndergradMajor</th>\n",
              "      <th>EduOther</th>\n",
              "      <th>OrgSize</th>\n",
              "      <th>DevType</th>\n",
              "      <th>YearsCode</th>\n",
              "      <th>Age1stCode</th>\n",
              "      <th>YearsCodePro</th>\n",
              "      <th>CareerSat</th>\n",
              "      <th>JobSat</th>\n",
              "      <th>MgrIdiot</th>\n",
              "      <th>MgrMoney</th>\n",
              "      <th>MgrWant</th>\n",
              "      <th>JobSeek</th>\n",
              "      <th>LastHireDate</th>\n",
              "      <th>LastInt</th>\n",
              "      <th>FizzBuzz</th>\n",
              "      <th>JobFactors</th>\n",
              "      <th>ResumeUpdate</th>\n",
              "      <th>CurrencySymbol</th>\n",
              "      <th>CurrencyDesc</th>\n",
              "      <th>CompTotal</th>\n",
              "      <th>CompFreq</th>\n",
              "      <th>ConvertedComp</th>\n",
              "      <th>WorkWeekHrs</th>\n",
              "      <th>WorkPlan</th>\n",
              "      <th>WorkChallenge</th>\n",
              "      <th>WorkRemote</th>\n",
              "      <th>WorkLoc</th>\n",
              "      <th>ImpSyn</th>\n",
              "      <th>CodeRev</th>\n",
              "      <th>CodeRevHrs</th>\n",
              "      <th>...</th>\n",
              "      <th>DatabaseWorkedWith</th>\n",
              "      <th>DatabaseDesireNextYear</th>\n",
              "      <th>PlatformWorkedWith</th>\n",
              "      <th>PlatformDesireNextYear</th>\n",
              "      <th>WebFrameWorkedWith</th>\n",
              "      <th>WebFrameDesireNextYear</th>\n",
              "      <th>MiscTechWorkedWith</th>\n",
              "      <th>MiscTechDesireNextYear</th>\n",
              "      <th>DevEnviron</th>\n",
              "      <th>OpSys</th>\n",
              "      <th>Containers</th>\n",
              "      <th>BlockchainOrg</th>\n",
              "      <th>BlockchainIs</th>\n",
              "      <th>BetterLife</th>\n",
              "      <th>ITperson</th>\n",
              "      <th>OffOn</th>\n",
              "      <th>SocialMedia</th>\n",
              "      <th>Extraversion</th>\n",
              "      <th>ScreenName</th>\n",
              "      <th>SOVisit1st</th>\n",
              "      <th>SOVisitFreq</th>\n",
              "      <th>SOVisitTo</th>\n",
              "      <th>SOFindAnswer</th>\n",
              "      <th>SOTimeSaved</th>\n",
              "      <th>SOHowMuchTime</th>\n",
              "      <th>SOAccount</th>\n",
              "      <th>SOPartFreq</th>\n",
              "      <th>SOJobs</th>\n",
              "      <th>EntTeams</th>\n",
              "      <th>SOComm</th>\n",
              "      <th>WelcomeChange</th>\n",
              "      <th>SONewContent</th>\n",
              "      <th>Age</th>\n",
              "      <th>Gender</th>\n",
              "      <th>Trans</th>\n",
              "      <th>Sexuality</th>\n",
              "      <th>Ethnicity</th>\n",
              "      <th>Dependents</th>\n",
              "      <th>SurveyLength</th>\n",
              "      <th>SurveyEase</th>\n",
              "    </tr>\n",
              "  </thead>\n",
              "  <tbody>\n",
              "    <tr>\n",
              "      <th>0</th>\n",
              "      <td>1</td>\n",
              "      <td>I am a student who is learning to code</td>\n",
              "      <td>Yes</td>\n",
              "      <td>Never</td>\n",
              "      <td>The quality of OSS and closed source software ...</td>\n",
              "      <td>Not employed, and not looking for work</td>\n",
              "      <td>United Kingdom</td>\n",
              "      <td>No</td>\n",
              "      <td>Primary/elementary school</td>\n",
              "      <td>NaN</td>\n",
              "      <td>Taught yourself a new language, framework, or ...</td>\n",
              "      <td>NaN</td>\n",
              "      <td>NaN</td>\n",
              "      <td>4</td>\n",
              "      <td>10</td>\n",
              "      <td>NaN</td>\n",
              "      <td>NaN</td>\n",
              "      <td>NaN</td>\n",
              "      <td>NaN</td>\n",
              "      <td>NaN</td>\n",
              "      <td>NaN</td>\n",
              "      <td>NaN</td>\n",
              "      <td>NaN</td>\n",
              "      <td>NaN</td>\n",
              "      <td>NaN</td>\n",
              "      <td>NaN</td>\n",
              "      <td>NaN</td>\n",
              "      <td>NaN</td>\n",
              "      <td>NaN</td>\n",
              "      <td>NaN</td>\n",
              "      <td>NaN</td>\n",
              "      <td>NaN</td>\n",
              "      <td>NaN</td>\n",
              "      <td>NaN</td>\n",
              "      <td>NaN</td>\n",
              "      <td>NaN</td>\n",
              "      <td>NaN</td>\n",
              "      <td>NaN</td>\n",
              "      <td>NaN</td>\n",
              "      <td>NaN</td>\n",
              "      <td>...</td>\n",
              "      <td>SQLite</td>\n",
              "      <td>MySQL</td>\n",
              "      <td>MacOS;Windows</td>\n",
              "      <td>Android;Arduino;Windows</td>\n",
              "      <td>Django;Flask</td>\n",
              "      <td>Flask;jQuery</td>\n",
              "      <td>Node.js</td>\n",
              "      <td>Node.js</td>\n",
              "      <td>IntelliJ;Notepad++;PyCharm</td>\n",
              "      <td>Windows</td>\n",
              "      <td>I do not use containers</td>\n",
              "      <td>NaN</td>\n",
              "      <td>NaN</td>\n",
              "      <td>Yes</td>\n",
              "      <td>Fortunately, someone else has that title</td>\n",
              "      <td>Yes</td>\n",
              "      <td>Twitter</td>\n",
              "      <td>Online</td>\n",
              "      <td>Username</td>\n",
              "      <td>2017</td>\n",
              "      <td>A few times per month or weekly</td>\n",
              "      <td>Find answers to specific questions;Learn how t...</td>\n",
              "      <td>3-5 times per week</td>\n",
              "      <td>Stack Overflow was much faster</td>\n",
              "      <td>31-60 minutes</td>\n",
              "      <td>No</td>\n",
              "      <td>NaN</td>\n",
              "      <td>No, I didn't know that Stack Overflow had a jo...</td>\n",
              "      <td>No, and I don't know what those are</td>\n",
              "      <td>Neutral</td>\n",
              "      <td>Just as welcome now as I felt last year</td>\n",
              "      <td>Tech articles written by other developers;Indu...</td>\n",
              "      <td>14.0</td>\n",
              "      <td>Man</td>\n",
              "      <td>No</td>\n",
              "      <td>Straight / Heterosexual</td>\n",
              "      <td>NaN</td>\n",
              "      <td>No</td>\n",
              "      <td>Appropriate in length</td>\n",
              "      <td>Neither easy nor difficult</td>\n",
              "    </tr>\n",
              "    <tr>\n",
              "      <th>1</th>\n",
              "      <td>2</td>\n",
              "      <td>I am a student who is learning to code</td>\n",
              "      <td>No</td>\n",
              "      <td>Less than once per year</td>\n",
              "      <td>The quality of OSS and closed source software ...</td>\n",
              "      <td>Not employed, but looking for work</td>\n",
              "      <td>Bosnia and Herzegovina</td>\n",
              "      <td>Yes, full-time</td>\n",
              "      <td>Secondary school (e.g. American high school, G...</td>\n",
              "      <td>NaN</td>\n",
              "      <td>Taken an online course in programming or softw...</td>\n",
              "      <td>NaN</td>\n",
              "      <td>Developer, desktop or enterprise applications;...</td>\n",
              "      <td>NaN</td>\n",
              "      <td>17</td>\n",
              "      <td>NaN</td>\n",
              "      <td>NaN</td>\n",
              "      <td>NaN</td>\n",
              "      <td>NaN</td>\n",
              "      <td>NaN</td>\n",
              "      <td>NaN</td>\n",
              "      <td>I am actively looking for a job</td>\n",
              "      <td>I've never had a job</td>\n",
              "      <td>NaN</td>\n",
              "      <td>NaN</td>\n",
              "      <td>Financial performance or funding status of the...</td>\n",
              "      <td>Something else changed (education, award, medi...</td>\n",
              "      <td>NaN</td>\n",
              "      <td>NaN</td>\n",
              "      <td>NaN</td>\n",
              "      <td>NaN</td>\n",
              "      <td>NaN</td>\n",
              "      <td>NaN</td>\n",
              "      <td>NaN</td>\n",
              "      <td>NaN</td>\n",
              "      <td>NaN</td>\n",
              "      <td>NaN</td>\n",
              "      <td>NaN</td>\n",
              "      <td>NaN</td>\n",
              "      <td>NaN</td>\n",
              "      <td>...</td>\n",
              "      <td>NaN</td>\n",
              "      <td>MySQL</td>\n",
              "      <td>Windows</td>\n",
              "      <td>Windows</td>\n",
              "      <td>Django</td>\n",
              "      <td>Django</td>\n",
              "      <td>NaN</td>\n",
              "      <td>NaN</td>\n",
              "      <td>Atom;PyCharm</td>\n",
              "      <td>Windows</td>\n",
              "      <td>I do not use containers</td>\n",
              "      <td>NaN</td>\n",
              "      <td>Useful across many domains and could change ma...</td>\n",
              "      <td>Yes</td>\n",
              "      <td>Yes</td>\n",
              "      <td>Yes</td>\n",
              "      <td>Instagram</td>\n",
              "      <td>Online</td>\n",
              "      <td>Username</td>\n",
              "      <td>2017</td>\n",
              "      <td>Daily or almost daily</td>\n",
              "      <td>Find answers to specific questions;Learn how t...</td>\n",
              "      <td>3-5 times per week</td>\n",
              "      <td>Stack Overflow was much faster</td>\n",
              "      <td>11-30 minutes</td>\n",
              "      <td>Yes</td>\n",
              "      <td>A few times per month or weekly</td>\n",
              "      <td>No, I knew that Stack Overflow had a job board...</td>\n",
              "      <td>No, and I don't know what those are</td>\n",
              "      <td>Yes, somewhat</td>\n",
              "      <td>Just as welcome now as I felt last year</td>\n",
              "      <td>Tech articles written by other developers;Indu...</td>\n",
              "      <td>19.0</td>\n",
              "      <td>Man</td>\n",
              "      <td>No</td>\n",
              "      <td>Straight / Heterosexual</td>\n",
              "      <td>NaN</td>\n",
              "      <td>No</td>\n",
              "      <td>Appropriate in length</td>\n",
              "      <td>Neither easy nor difficult</td>\n",
              "    </tr>\n",
              "    <tr>\n",
              "      <th>2</th>\n",
              "      <td>3</td>\n",
              "      <td>I am not primarily a developer, but I write co...</td>\n",
              "      <td>Yes</td>\n",
              "      <td>Never</td>\n",
              "      <td>The quality of OSS and closed source software ...</td>\n",
              "      <td>Employed full-time</td>\n",
              "      <td>Thailand</td>\n",
              "      <td>No</td>\n",
              "      <td>Bachelor’s degree (BA, BS, B.Eng., etc.)</td>\n",
              "      <td>Web development or web design</td>\n",
              "      <td>Taught yourself a new language, framework, or ...</td>\n",
              "      <td>100 to 499 employees</td>\n",
              "      <td>Designer;Developer, back-end;Developer, front-...</td>\n",
              "      <td>3</td>\n",
              "      <td>22</td>\n",
              "      <td>1</td>\n",
              "      <td>Slightly satisfied</td>\n",
              "      <td>Slightly satisfied</td>\n",
              "      <td>Not at all confident</td>\n",
              "      <td>Not sure</td>\n",
              "      <td>Not sure</td>\n",
              "      <td>I’m not actively looking, but I am open to new...</td>\n",
              "      <td>1-2 years ago</td>\n",
              "      <td>Interview with people in peer roles</td>\n",
              "      <td>No</td>\n",
              "      <td>Languages, frameworks, and other technologies ...</td>\n",
              "      <td>I was preparing for a job search</td>\n",
              "      <td>THB</td>\n",
              "      <td>Thai baht</td>\n",
              "      <td>23000.0</td>\n",
              "      <td>Monthly</td>\n",
              "      <td>8820.0</td>\n",
              "      <td>40.0</td>\n",
              "      <td>There's no schedule or spec; I work on what se...</td>\n",
              "      <td>Distracting work environment;Inadequate access...</td>\n",
              "      <td>Less than once per month / Never</td>\n",
              "      <td>Home</td>\n",
              "      <td>Average</td>\n",
              "      <td>No</td>\n",
              "      <td>NaN</td>\n",
              "      <td>...</td>\n",
              "      <td>PostgreSQL</td>\n",
              "      <td>PostgreSQL</td>\n",
              "      <td>NaN</td>\n",
              "      <td>NaN</td>\n",
              "      <td>NaN</td>\n",
              "      <td>Other(s):</td>\n",
              "      <td>NaN</td>\n",
              "      <td>NaN</td>\n",
              "      <td>Vim;Visual Studio Code</td>\n",
              "      <td>Linux-based</td>\n",
              "      <td>I do not use containers</td>\n",
              "      <td>NaN</td>\n",
              "      <td>NaN</td>\n",
              "      <td>Yes</td>\n",
              "      <td>Yes</td>\n",
              "      <td>Yes</td>\n",
              "      <td>Reddit</td>\n",
              "      <td>In real life (in person)</td>\n",
              "      <td>Username</td>\n",
              "      <td>2011</td>\n",
              "      <td>A few times per week</td>\n",
              "      <td>Find answers to specific questions;Learn how t...</td>\n",
              "      <td>6-10 times per week</td>\n",
              "      <td>They were about the same</td>\n",
              "      <td>NaN</td>\n",
              "      <td>Yes</td>\n",
              "      <td>Less than once per month or monthly</td>\n",
              "      <td>Yes</td>\n",
              "      <td>No, I've heard of them, but I am not part of a...</td>\n",
              "      <td>Neutral</td>\n",
              "      <td>Just as welcome now as I felt last year</td>\n",
              "      <td>Tech meetups or events in your area;Courses on...</td>\n",
              "      <td>28.0</td>\n",
              "      <td>Man</td>\n",
              "      <td>No</td>\n",
              "      <td>Straight / Heterosexual</td>\n",
              "      <td>NaN</td>\n",
              "      <td>Yes</td>\n",
              "      <td>Appropriate in length</td>\n",
              "      <td>Neither easy nor difficult</td>\n",
              "    </tr>\n",
              "  </tbody>\n",
              "</table>\n",
              "<p>3 rows × 85 columns</p>\n",
              "</div>"
            ],
            "text/plain": [
              "   Respondent  ...                  SurveyEase\n",
              "0           1  ...  Neither easy nor difficult\n",
              "1           2  ...  Neither easy nor difficult\n",
              "2           3  ...  Neither easy nor difficult\n",
              "\n",
              "[3 rows x 85 columns]"
            ]
          },
          "metadata": {
            "tags": []
          },
          "execution_count": 3
        }
      ]
    },
    {
      "cell_type": "code",
      "metadata": {
        "id": "UKzUn7WqDqC0",
        "colab_type": "code",
        "outputId": "b1001699-661c-43a1-aebc-838dbec9c4e7",
        "colab": {
          "base_uri": "https://localhost:8080/",
          "height": 34
        }
      },
      "source": [
        "# Get the dimension of the dataset\n",
        "data.shape"
      ],
      "execution_count": 4,
      "outputs": [
        {
          "output_type": "execute_result",
          "data": {
            "text/plain": [
              "(88883, 85)"
            ]
          },
          "metadata": {
            "tags": []
          },
          "execution_count": 4
        }
      ]
    },
    {
      "cell_type": "code",
      "metadata": {
        "id": "LliGpN0-l9LW",
        "colab_type": "code",
        "outputId": "1d4ce5ef-adec-43c9-d54c-fc7166bd8926",
        "colab": {
          "base_uri": "https://localhost:8080/",
          "height": 394
        }
      },
      "source": [
        "# Get a sense of the columns in the dataset\n",
        "data.columns[:]"
      ],
      "execution_count": 5,
      "outputs": [
        {
          "output_type": "execute_result",
          "data": {
            "text/plain": [
              "Index(['Respondent', 'MainBranch', 'Hobbyist', 'OpenSourcer', 'OpenSource',\n",
              "       'Employment', 'Country', 'Student', 'EdLevel', 'UndergradMajor',\n",
              "       'EduOther', 'OrgSize', 'DevType', 'YearsCode', 'Age1stCode',\n",
              "       'YearsCodePro', 'CareerSat', 'JobSat', 'MgrIdiot', 'MgrMoney',\n",
              "       'MgrWant', 'JobSeek', 'LastHireDate', 'LastInt', 'FizzBuzz',\n",
              "       'JobFactors', 'ResumeUpdate', 'CurrencySymbol', 'CurrencyDesc',\n",
              "       'CompTotal', 'CompFreq', 'ConvertedComp', 'WorkWeekHrs', 'WorkPlan',\n",
              "       'WorkChallenge', 'WorkRemote', 'WorkLoc', 'ImpSyn', 'CodeRev',\n",
              "       'CodeRevHrs', 'UnitTests', 'PurchaseHow', 'PurchaseWhat',\n",
              "       'LanguageWorkedWith', 'LanguageDesireNextYear', 'DatabaseWorkedWith',\n",
              "       'DatabaseDesireNextYear', 'PlatformWorkedWith',\n",
              "       'PlatformDesireNextYear', 'WebFrameWorkedWith',\n",
              "       'WebFrameDesireNextYear', 'MiscTechWorkedWith',\n",
              "       'MiscTechDesireNextYear', 'DevEnviron', 'OpSys', 'Containers',\n",
              "       'BlockchainOrg', 'BlockchainIs', 'BetterLife', 'ITperson', 'OffOn',\n",
              "       'SocialMedia', 'Extraversion', 'ScreenName', 'SOVisit1st',\n",
              "       'SOVisitFreq', 'SOVisitTo', 'SOFindAnswer', 'SOTimeSaved',\n",
              "       'SOHowMuchTime', 'SOAccount', 'SOPartFreq', 'SOJobs', 'EntTeams',\n",
              "       'SOComm', 'WelcomeChange', 'SONewContent', 'Age', 'Gender', 'Trans',\n",
              "       'Sexuality', 'Ethnicity', 'Dependents', 'SurveyLength', 'SurveyEase'],\n",
              "      dtype='object')"
            ]
          },
          "metadata": {
            "tags": []
          },
          "execution_count": 5
        }
      ]
    },
    {
      "cell_type": "code",
      "metadata": {
        "id": "BWoEslF_nBHd",
        "colab_type": "code",
        "outputId": "d9022d95-b3e9-4223-e641-9429b6dff0e1",
        "colab": {
          "base_uri": "https://localhost:8080/",
          "height": 1000
        }
      },
      "source": [
        "# Get a sense of the columns with missing data by viewing all the number of responses\n",
        "data.info();"
      ],
      "execution_count": 6,
      "outputs": [
        {
          "output_type": "stream",
          "text": [
            "<class 'pandas.core.frame.DataFrame'>\n",
            "RangeIndex: 88883 entries, 0 to 88882\n",
            "Data columns (total 85 columns):\n",
            " #   Column                  Non-Null Count  Dtype  \n",
            "---  ------                  --------------  -----  \n",
            " 0   Respondent              88883 non-null  int64  \n",
            " 1   MainBranch              88331 non-null  object \n",
            " 2   Hobbyist                88883 non-null  object \n",
            " 3   OpenSourcer             88883 non-null  object \n",
            " 4   OpenSource              86842 non-null  object \n",
            " 5   Employment              87181 non-null  object \n",
            " 6   Country                 88751 non-null  object \n",
            " 7   Student                 87014 non-null  object \n",
            " 8   EdLevel                 86390 non-null  object \n",
            " 9   UndergradMajor          75614 non-null  object \n",
            " 10  EduOther                84260 non-null  object \n",
            " 11  OrgSize                 71791 non-null  object \n",
            " 12  DevType                 81335 non-null  object \n",
            " 13  YearsCode               87938 non-null  object \n",
            " 14  Age1stCode              87634 non-null  object \n",
            " 15  YearsCodePro            74331 non-null  object \n",
            " 16  CareerSat               72847 non-null  object \n",
            " 17  JobSat                  70988 non-null  object \n",
            " 18  MgrIdiot                61159 non-null  object \n",
            " 19  MgrMoney                61157 non-null  object \n",
            " 20  MgrWant                 61232 non-null  object \n",
            " 21  JobSeek                 80555 non-null  object \n",
            " 22  LastHireDate            79854 non-null  object \n",
            " 23  LastInt                 67155 non-null  object \n",
            " 24  FizzBuzz                71344 non-null  object \n",
            " 25  JobFactors              79371 non-null  object \n",
            " 26  ResumeUpdate            77877 non-null  object \n",
            " 27  CurrencySymbol          71392 non-null  object \n",
            " 28  CurrencyDesc            71392 non-null  object \n",
            " 29  CompTotal               55945 non-null  float64\n",
            " 30  CompFreq                63268 non-null  object \n",
            " 31  ConvertedComp           55823 non-null  float64\n",
            " 32  WorkWeekHrs             64503 non-null  float64\n",
            " 33  WorkPlan                68914 non-null  object \n",
            " 34  WorkChallenge           68141 non-null  object \n",
            " 35  WorkRemote              70284 non-null  object \n",
            " 36  WorkLoc                 70055 non-null  object \n",
            " 37  ImpSyn                  71779 non-null  object \n",
            " 38  CodeRev                 70390 non-null  object \n",
            " 39  CodeRevHrs              49790 non-null  float64\n",
            " 40  UnitTests               62668 non-null  object \n",
            " 41  PurchaseHow             61108 non-null  object \n",
            " 42  PurchaseWhat            62029 non-null  object \n",
            " 43  LanguageWorkedWith      87569 non-null  object \n",
            " 44  LanguageDesireNextYear  84088 non-null  object \n",
            " 45  DatabaseWorkedWith      76026 non-null  object \n",
            " 46  DatabaseDesireNextYear  69147 non-null  object \n",
            " 47  PlatformWorkedWith      80714 non-null  object \n",
            " 48  PlatformDesireNextYear  77443 non-null  object \n",
            " 49  WebFrameWorkedWith      65022 non-null  object \n",
            " 50  WebFrameDesireNextYear  62944 non-null  object \n",
            " 51  MiscTechWorkedWith      59586 non-null  object \n",
            " 52  MiscTechDesireNextYear  64511 non-null  object \n",
            " 53  DevEnviron              87317 non-null  object \n",
            " 54  OpSys                   87851 non-null  object \n",
            " 55  Containers              85366 non-null  object \n",
            " 56  BlockchainOrg           48175 non-null  object \n",
            " 57  BlockchainIs            60165 non-null  object \n",
            " 58  BetterLife              86269 non-null  object \n",
            " 59  ITperson                87141 non-null  object \n",
            " 60  OffOn                   86663 non-null  object \n",
            " 61  SocialMedia             84437 non-null  object \n",
            " 62  Extraversion            87305 non-null  object \n",
            " 63  ScreenName              80486 non-null  object \n",
            " 64  SOVisit1st              83877 non-null  object \n",
            " 65  SOVisitFreq             88263 non-null  object \n",
            " 66  SOVisitTo               88086 non-null  object \n",
            " 67  SOFindAnswer            87816 non-null  object \n",
            " 68  SOTimeSaved             86344 non-null  object \n",
            " 69  SOHowMuchTime           68378 non-null  object \n",
            " 70  SOAccount               87828 non-null  object \n",
            " 71  SOPartFreq              74692 non-null  object \n",
            " 72  SOJobs                  88066 non-null  object \n",
            " 73  EntTeams                87841 non-null  object \n",
            " 74  SOComm                  88131 non-null  object \n",
            " 75  WelcomeChange           85855 non-null  object \n",
            " 76  SONewContent            69560 non-null  object \n",
            " 77  Age                     79210 non-null  float64\n",
            " 78  Gender                  85406 non-null  object \n",
            " 79  Trans                   83607 non-null  object \n",
            " 80  Sexuality               76147 non-null  object \n",
            " 81  Ethnicity               76668 non-null  object \n",
            " 82  Dependents              83059 non-null  object \n",
            " 83  SurveyLength            86984 non-null  object \n",
            " 84  SurveyEase              87081 non-null  object \n",
            "dtypes: float64(5), int64(1), object(79)\n",
            "memory usage: 57.6+ MB\n"
          ],
          "name": "stdout"
        }
      ]
    },
    {
      "cell_type": "code",
      "metadata": {
        "id": "tYqzQ8YToE9E",
        "colab_type": "code",
        "outputId": "e6aeea57-0cbf-43be-827e-d135d6ea11be",
        "colab": {
          "base_uri": "https://localhost:8080/",
          "height": 34
        }
      },
      "source": [
        "# identify the number of responses from the all countries in the dataset\n",
        "data['Country'].count()"
      ],
      "execution_count": 7,
      "outputs": [
        {
          "output_type": "execute_result",
          "data": {
            "text/plain": [
              "88751"
            ]
          },
          "metadata": {
            "tags": []
          },
          "execution_count": 7
        }
      ]
    },
    {
      "cell_type": "code",
      "metadata": {
        "id": "TnFMZwX0ssLy",
        "colab_type": "code",
        "outputId": "5510bdeb-1017-41cc-a90d-7c0a9bb3582e",
        "colab": {
          "base_uri": "https://localhost:8080/",
          "height": 34
        }
      },
      "source": [
        "# Determine the number of missing data in the 'Country' column\n",
        "data['Country'].isnull().sum()"
      ],
      "execution_count": 8,
      "outputs": [
        {
          "output_type": "execute_result",
          "data": {
            "text/plain": [
              "132"
            ]
          },
          "metadata": {
            "tags": []
          },
          "execution_count": 8
        }
      ]
    },
    {
      "cell_type": "code",
      "metadata": {
        "id": "CZU75eoR0e8-",
        "colab_type": "code",
        "outputId": "a4e998be-9235-4853-a7af-bb9bf66273a3",
        "colab": {
          "base_uri": "https://localhost:8080/",
          "height": 754
        }
      },
      "source": [
        "# Get the number of responses per country\n",
        "resp_country = data['Country'].value_counts()\n",
        "resp_country.head(40)"
      ],
      "execution_count": 9,
      "outputs": [
        {
          "output_type": "execute_result",
          "data": {
            "text/plain": [
              "United States         20949\n",
              "India                  9061\n",
              "Germany                5866\n",
              "United Kingdom         5737\n",
              "Canada                 3395\n",
              "France                 2391\n",
              "Brazil                 1948\n",
              "Poland                 1922\n",
              "Australia              1903\n",
              "Netherlands            1852\n",
              "Russian Federation     1694\n",
              "Spain                  1604\n",
              "Italy                  1576\n",
              "Sweden                 1274\n",
              "Switzerland             978\n",
              "Israel                  952\n",
              "Turkey                  949\n",
              "Pakistan                923\n",
              "Ukraine                 868\n",
              "Austria                 839\n",
              "Czech Republic          764\n",
              "Romania                 760\n",
              "Iran                    738\n",
              "Belgium                 727\n",
              "China                   664\n",
              "Bulgaria                659\n",
              "Mexico                  642\n",
              "South Africa            627\n",
              "Denmark                 617\n",
              "Bangladesh              605\n",
              "Norway                  574\n",
              "Greece                  556\n",
              "Argentina               553\n",
              "Finland                 546\n",
              "Portugal                525\n",
              "New Zealand             524\n",
              "Nigeria                 522\n",
              "Hungary                 513\n",
              "Indonesia               507\n",
              "Ireland                 501\n",
              "Name: Country, dtype: int64"
            ]
          },
          "metadata": {
            "tags": []
          },
          "execution_count": 9
        }
      ]
    },
    {
      "cell_type": "code",
      "metadata": {
        "id": "jbU_DjIovkzD",
        "colab_type": "code",
        "outputId": "04f9dad2-152c-44b4-8c68-95a11117fe69",
        "colab": {
          "base_uri": "https://localhost:8080/",
          "height": 124
        }
      },
      "source": [
        "# As we desire to focus on respondents who claim to be developers. we would \n",
        "# filter our dataset to only focus on our target audience\n",
        "data['MainBranch'].value_counts()"
      ],
      "execution_count": 10,
      "outputs": [
        {
          "output_type": "execute_result",
          "data": {
            "text/plain": [
              "I am a developer by profession                                                   65679\n",
              "I am a student who is learning to code                                           10189\n",
              "I am not primarily a developer, but I write code sometimes as part of my work     7539\n",
              "I code primarily as a hobby                                                       3340\n",
              "I used to be a developer by profession, but no longer am                          1584\n",
              "Name: MainBranch, dtype: int64"
            ]
          },
          "metadata": {
            "tags": []
          },
          "execution_count": 10
        }
      ]
    },
    {
      "cell_type": "markdown",
      "metadata": {
        "id": "WYCLSL5Fy-q6",
        "colab_type": "text"
      },
      "source": [
        "We would focus on those who said **'I am a developer by profession'** as they make the highest number of respondents in the survey data\n"
      ]
    },
    {
      "cell_type": "code",
      "metadata": {
        "id": "5_Jw2RrCyqI2",
        "colab_type": "code",
        "outputId": "3aa0202f-d577-4af4-8806-5f63ab4964ef",
        "colab": {
          "base_uri": "https://localhost:8080/",
          "height": 699
        }
      },
      "source": [
        "# Create a new dataframe 'dev_data' to house all respondendts who said 'I am a developer by profession'\n",
        "dev_data = data[data['MainBranch'] == 'I am a developer by profession']\n",
        "dev_data.head()"
      ],
      "execution_count": 11,
      "outputs": [
        {
          "output_type": "execute_result",
          "data": {
            "text/html": [
              "<div>\n",
              "<style scoped>\n",
              "    .dataframe tbody tr th:only-of-type {\n",
              "        vertical-align: middle;\n",
              "    }\n",
              "\n",
              "    .dataframe tbody tr th {\n",
              "        vertical-align: top;\n",
              "    }\n",
              "\n",
              "    .dataframe thead th {\n",
              "        text-align: right;\n",
              "    }\n",
              "</style>\n",
              "<table border=\"1\" class=\"dataframe\">\n",
              "  <thead>\n",
              "    <tr style=\"text-align: right;\">\n",
              "      <th></th>\n",
              "      <th>Respondent</th>\n",
              "      <th>MainBranch</th>\n",
              "      <th>Hobbyist</th>\n",
              "      <th>OpenSourcer</th>\n",
              "      <th>OpenSource</th>\n",
              "      <th>Employment</th>\n",
              "      <th>Country</th>\n",
              "      <th>Student</th>\n",
              "      <th>EdLevel</th>\n",
              "      <th>UndergradMajor</th>\n",
              "      <th>EduOther</th>\n",
              "      <th>OrgSize</th>\n",
              "      <th>DevType</th>\n",
              "      <th>YearsCode</th>\n",
              "      <th>Age1stCode</th>\n",
              "      <th>YearsCodePro</th>\n",
              "      <th>CareerSat</th>\n",
              "      <th>JobSat</th>\n",
              "      <th>MgrIdiot</th>\n",
              "      <th>MgrMoney</th>\n",
              "      <th>MgrWant</th>\n",
              "      <th>JobSeek</th>\n",
              "      <th>LastHireDate</th>\n",
              "      <th>LastInt</th>\n",
              "      <th>FizzBuzz</th>\n",
              "      <th>JobFactors</th>\n",
              "      <th>ResumeUpdate</th>\n",
              "      <th>CurrencySymbol</th>\n",
              "      <th>CurrencyDesc</th>\n",
              "      <th>CompTotal</th>\n",
              "      <th>CompFreq</th>\n",
              "      <th>ConvertedComp</th>\n",
              "      <th>WorkWeekHrs</th>\n",
              "      <th>WorkPlan</th>\n",
              "      <th>WorkChallenge</th>\n",
              "      <th>WorkRemote</th>\n",
              "      <th>WorkLoc</th>\n",
              "      <th>ImpSyn</th>\n",
              "      <th>CodeRev</th>\n",
              "      <th>CodeRevHrs</th>\n",
              "      <th>...</th>\n",
              "      <th>DatabaseWorkedWith</th>\n",
              "      <th>DatabaseDesireNextYear</th>\n",
              "      <th>PlatformWorkedWith</th>\n",
              "      <th>PlatformDesireNextYear</th>\n",
              "      <th>WebFrameWorkedWith</th>\n",
              "      <th>WebFrameDesireNextYear</th>\n",
              "      <th>MiscTechWorkedWith</th>\n",
              "      <th>MiscTechDesireNextYear</th>\n",
              "      <th>DevEnviron</th>\n",
              "      <th>OpSys</th>\n",
              "      <th>Containers</th>\n",
              "      <th>BlockchainOrg</th>\n",
              "      <th>BlockchainIs</th>\n",
              "      <th>BetterLife</th>\n",
              "      <th>ITperson</th>\n",
              "      <th>OffOn</th>\n",
              "      <th>SocialMedia</th>\n",
              "      <th>Extraversion</th>\n",
              "      <th>ScreenName</th>\n",
              "      <th>SOVisit1st</th>\n",
              "      <th>SOVisitFreq</th>\n",
              "      <th>SOVisitTo</th>\n",
              "      <th>SOFindAnswer</th>\n",
              "      <th>SOTimeSaved</th>\n",
              "      <th>SOHowMuchTime</th>\n",
              "      <th>SOAccount</th>\n",
              "      <th>SOPartFreq</th>\n",
              "      <th>SOJobs</th>\n",
              "      <th>EntTeams</th>\n",
              "      <th>SOComm</th>\n",
              "      <th>WelcomeChange</th>\n",
              "      <th>SONewContent</th>\n",
              "      <th>Age</th>\n",
              "      <th>Gender</th>\n",
              "      <th>Trans</th>\n",
              "      <th>Sexuality</th>\n",
              "      <th>Ethnicity</th>\n",
              "      <th>Dependents</th>\n",
              "      <th>SurveyLength</th>\n",
              "      <th>SurveyEase</th>\n",
              "    </tr>\n",
              "  </thead>\n",
              "  <tbody>\n",
              "    <tr>\n",
              "      <th>3</th>\n",
              "      <td>4</td>\n",
              "      <td>I am a developer by profession</td>\n",
              "      <td>No</td>\n",
              "      <td>Never</td>\n",
              "      <td>The quality of OSS and closed source software ...</td>\n",
              "      <td>Employed full-time</td>\n",
              "      <td>United States</td>\n",
              "      <td>No</td>\n",
              "      <td>Bachelor’s degree (BA, BS, B.Eng., etc.)</td>\n",
              "      <td>Computer science, computer engineering, or sof...</td>\n",
              "      <td>Taken an online course in programming or softw...</td>\n",
              "      <td>100 to 499 employees</td>\n",
              "      <td>Developer, full-stack</td>\n",
              "      <td>3</td>\n",
              "      <td>16</td>\n",
              "      <td>Less than 1 year</td>\n",
              "      <td>Very satisfied</td>\n",
              "      <td>Slightly satisfied</td>\n",
              "      <td>Very confident</td>\n",
              "      <td>No</td>\n",
              "      <td>Not sure</td>\n",
              "      <td>I am not interested in new job opportunities</td>\n",
              "      <td>Less than a year ago</td>\n",
              "      <td>Write code by hand (e.g., on a whiteboard);Int...</td>\n",
              "      <td>No</td>\n",
              "      <td>Languages, frameworks, and other technologies ...</td>\n",
              "      <td>I was preparing for a job search</td>\n",
              "      <td>USD</td>\n",
              "      <td>United States dollar</td>\n",
              "      <td>61000.0</td>\n",
              "      <td>Yearly</td>\n",
              "      <td>61000.0</td>\n",
              "      <td>80.0</td>\n",
              "      <td>There's no schedule or spec; I work on what se...</td>\n",
              "      <td>NaN</td>\n",
              "      <td>Less than once per month / Never</td>\n",
              "      <td>Home</td>\n",
              "      <td>A little below average</td>\n",
              "      <td>No</td>\n",
              "      <td>NaN</td>\n",
              "      <td>...</td>\n",
              "      <td>MySQL;SQLite</td>\n",
              "      <td>MySQL;SQLite</td>\n",
              "      <td>Linux;Windows</td>\n",
              "      <td>Linux;Windows</td>\n",
              "      <td>NaN</td>\n",
              "      <td>NaN</td>\n",
              "      <td>.NET</td>\n",
              "      <td>.NET</td>\n",
              "      <td>Eclipse;Vim;Visual Studio;Visual Studio Code</td>\n",
              "      <td>Windows</td>\n",
              "      <td>I do not use containers</td>\n",
              "      <td>Not at all</td>\n",
              "      <td>Useful for decentralized currency (i.e., Bitcoin)</td>\n",
              "      <td>Yes</td>\n",
              "      <td>SIGH</td>\n",
              "      <td>Yes</td>\n",
              "      <td>Reddit</td>\n",
              "      <td>In real life (in person)</td>\n",
              "      <td>Username</td>\n",
              "      <td>2014</td>\n",
              "      <td>Daily or almost daily</td>\n",
              "      <td>Find answers to specific questions;Pass the ti...</td>\n",
              "      <td>1-2 times per week</td>\n",
              "      <td>Stack Overflow was much faster</td>\n",
              "      <td>31-60 minutes</td>\n",
              "      <td>Yes</td>\n",
              "      <td>Less than once per month or monthly</td>\n",
              "      <td>Yes</td>\n",
              "      <td>No, and I don't know what those are</td>\n",
              "      <td>No, not really</td>\n",
              "      <td>Just as welcome now as I felt last year</td>\n",
              "      <td>Tech articles written by other developers;Indu...</td>\n",
              "      <td>22.0</td>\n",
              "      <td>Man</td>\n",
              "      <td>No</td>\n",
              "      <td>Straight / Heterosexual</td>\n",
              "      <td>White or of European descent</td>\n",
              "      <td>No</td>\n",
              "      <td>Appropriate in length</td>\n",
              "      <td>Easy</td>\n",
              "    </tr>\n",
              "    <tr>\n",
              "      <th>4</th>\n",
              "      <td>5</td>\n",
              "      <td>I am a developer by profession</td>\n",
              "      <td>Yes</td>\n",
              "      <td>Once a month or more often</td>\n",
              "      <td>OSS is, on average, of HIGHER quality than pro...</td>\n",
              "      <td>Employed full-time</td>\n",
              "      <td>Ukraine</td>\n",
              "      <td>No</td>\n",
              "      <td>Bachelor’s degree (BA, BS, B.Eng., etc.)</td>\n",
              "      <td>Computer science, computer engineering, or sof...</td>\n",
              "      <td>Taken an online course in programming or softw...</td>\n",
              "      <td>10,000 or more employees</td>\n",
              "      <td>Academic researcher;Developer, desktop or ente...</td>\n",
              "      <td>16</td>\n",
              "      <td>14</td>\n",
              "      <td>9</td>\n",
              "      <td>Very dissatisfied</td>\n",
              "      <td>Slightly dissatisfied</td>\n",
              "      <td>Somewhat confident</td>\n",
              "      <td>Yes</td>\n",
              "      <td>No</td>\n",
              "      <td>I am not interested in new job opportunities</td>\n",
              "      <td>Less than a year ago</td>\n",
              "      <td>Write any code;Write code by hand (e.g., on a ...</td>\n",
              "      <td>No</td>\n",
              "      <td>Industry that I'd be working in;Languages, fra...</td>\n",
              "      <td>I was preparing for a job search</td>\n",
              "      <td>UAH</td>\n",
              "      <td>Ukrainian hryvnia</td>\n",
              "      <td>NaN</td>\n",
              "      <td>NaN</td>\n",
              "      <td>NaN</td>\n",
              "      <td>55.0</td>\n",
              "      <td>There is a schedule and/or spec (made by me or...</td>\n",
              "      <td>Being tasked with non-development work;Inadequ...</td>\n",
              "      <td>A few days each month</td>\n",
              "      <td>Office</td>\n",
              "      <td>A little above average</td>\n",
              "      <td>Yes, because I see value in code review</td>\n",
              "      <td>NaN</td>\n",
              "      <td>...</td>\n",
              "      <td>Couchbase;MongoDB;MySQL;Oracle;PostgreSQL;SQLite</td>\n",
              "      <td>Couchbase;Firebase;MongoDB;MySQL;Oracle;Postgr...</td>\n",
              "      <td>Android;Linux;MacOS;Slack;Windows</td>\n",
              "      <td>Android;Docker;Kubernetes;Linux;Slack</td>\n",
              "      <td>Django;Express;Flask;jQuery;React.js;Spring</td>\n",
              "      <td>Flask;jQuery;React.js;Spring</td>\n",
              "      <td>Cordova;Node.js</td>\n",
              "      <td>Apache Spark;Hadoop;Node.js;React Native</td>\n",
              "      <td>IntelliJ;Notepad++;Vim</td>\n",
              "      <td>Linux-based</td>\n",
              "      <td>Outside of work, for personal projects</td>\n",
              "      <td>Not at all</td>\n",
              "      <td>NaN</td>\n",
              "      <td>Yes</td>\n",
              "      <td>Also Yes</td>\n",
              "      <td>Yes</td>\n",
              "      <td>Facebook</td>\n",
              "      <td>In real life (in person)</td>\n",
              "      <td>Username</td>\n",
              "      <td>I don't remember</td>\n",
              "      <td>Multiple times per day</td>\n",
              "      <td>Find answers to specific questions</td>\n",
              "      <td>More than 10 times per week</td>\n",
              "      <td>Stack Overflow was much faster</td>\n",
              "      <td>NaN</td>\n",
              "      <td>Yes</td>\n",
              "      <td>A few times per month or weekly</td>\n",
              "      <td>No, I knew that Stack Overflow had a job board...</td>\n",
              "      <td>No, I've heard of them, but I am not part of a...</td>\n",
              "      <td>Yes, definitely</td>\n",
              "      <td>Just as welcome now as I felt last year</td>\n",
              "      <td>Tech meetups or events in your area;Courses on...</td>\n",
              "      <td>30.0</td>\n",
              "      <td>Man</td>\n",
              "      <td>No</td>\n",
              "      <td>Straight / Heterosexual</td>\n",
              "      <td>White or of European descent;Multiracial</td>\n",
              "      <td>No</td>\n",
              "      <td>Appropriate in length</td>\n",
              "      <td>Easy</td>\n",
              "    </tr>\n",
              "    <tr>\n",
              "      <th>6</th>\n",
              "      <td>7</td>\n",
              "      <td>I am a developer by profession</td>\n",
              "      <td>No</td>\n",
              "      <td>Never</td>\n",
              "      <td>The quality of OSS and closed source software ...</td>\n",
              "      <td>Independent contractor, freelancer, or self-em...</td>\n",
              "      <td>Ukraine</td>\n",
              "      <td>No</td>\n",
              "      <td>Bachelor’s degree (BA, BS, B.Eng., etc.)</td>\n",
              "      <td>Another engineering discipline (ex. civil, ele...</td>\n",
              "      <td>Taught yourself a new language, framework, or ...</td>\n",
              "      <td>Just me - I am a freelancer, sole proprietor, ...</td>\n",
              "      <td>Designer;Developer, front-end</td>\n",
              "      <td>6</td>\n",
              "      <td>17</td>\n",
              "      <td>4</td>\n",
              "      <td>Slightly satisfied</td>\n",
              "      <td>Neither satisfied nor dissatisfied</td>\n",
              "      <td>NaN</td>\n",
              "      <td>NaN</td>\n",
              "      <td>NaN</td>\n",
              "      <td>I’m not actively looking, but I am open to new...</td>\n",
              "      <td>NA - I am an independent contractor or self em...</td>\n",
              "      <td>Write any code</td>\n",
              "      <td>No</td>\n",
              "      <td>Remote work options;Opportunities for professi...</td>\n",
              "      <td>NaN</td>\n",
              "      <td>USD</td>\n",
              "      <td>United States dollar</td>\n",
              "      <td>NaN</td>\n",
              "      <td>NaN</td>\n",
              "      <td>NaN</td>\n",
              "      <td>32.0</td>\n",
              "      <td>There is a schedule and/or spec (made by me or...</td>\n",
              "      <td>Being tasked with non-development work;Distrac...</td>\n",
              "      <td>All or almost all the time (I'm full-time remote)</td>\n",
              "      <td>Other place, such as a coworking space or cafe</td>\n",
              "      <td>Average</td>\n",
              "      <td>Yes, because I see value in code review</td>\n",
              "      <td>6.0</td>\n",
              "      <td>...</td>\n",
              "      <td>NaN</td>\n",
              "      <td>NaN</td>\n",
              "      <td>MacOS;Windows</td>\n",
              "      <td>MacOS;Windows</td>\n",
              "      <td>React.js</td>\n",
              "      <td>React.js</td>\n",
              "      <td>NaN</td>\n",
              "      <td>NaN</td>\n",
              "      <td>PHPStorm</td>\n",
              "      <td>Windows</td>\n",
              "      <td>I do not use containers</td>\n",
              "      <td>NaN</td>\n",
              "      <td>Useful for decentralized currency (i.e., Bitcoin)</td>\n",
              "      <td>No</td>\n",
              "      <td>Yes</td>\n",
              "      <td>No</td>\n",
              "      <td>YouTube</td>\n",
              "      <td>NaN</td>\n",
              "      <td>NaN</td>\n",
              "      <td>2014</td>\n",
              "      <td>Daily or almost daily</td>\n",
              "      <td>Find answers to specific questions</td>\n",
              "      <td>3-5 times per week</td>\n",
              "      <td>NaN</td>\n",
              "      <td>NaN</td>\n",
              "      <td>Yes</td>\n",
              "      <td>Less than once per month or monthly</td>\n",
              "      <td>Yes</td>\n",
              "      <td>No, and I don't know what those are</td>\n",
              "      <td>Neutral</td>\n",
              "      <td>A lot more welcome now than last year</td>\n",
              "      <td>NaN</td>\n",
              "      <td>42.0</td>\n",
              "      <td>Man</td>\n",
              "      <td>No</td>\n",
              "      <td>Straight / Heterosexual</td>\n",
              "      <td>White or of European descent</td>\n",
              "      <td>Yes</td>\n",
              "      <td>Appropriate in length</td>\n",
              "      <td>Neither easy nor difficult</td>\n",
              "    </tr>\n",
              "    <tr>\n",
              "      <th>8</th>\n",
              "      <td>9</td>\n",
              "      <td>I am a developer by profession</td>\n",
              "      <td>Yes</td>\n",
              "      <td>Once a month or more often</td>\n",
              "      <td>The quality of OSS and closed source software ...</td>\n",
              "      <td>Employed full-time</td>\n",
              "      <td>New Zealand</td>\n",
              "      <td>No</td>\n",
              "      <td>Some college/university study without earning ...</td>\n",
              "      <td>Computer science, computer engineering, or sof...</td>\n",
              "      <td>Taken an online course in programming or softw...</td>\n",
              "      <td>10 to 19 employees</td>\n",
              "      <td>Database administrator;Developer, back-end;Dev...</td>\n",
              "      <td>12</td>\n",
              "      <td>11</td>\n",
              "      <td>4</td>\n",
              "      <td>Slightly satisfied</td>\n",
              "      <td>Slightly satisfied</td>\n",
              "      <td>Somewhat confident</td>\n",
              "      <td>No</td>\n",
              "      <td>Not sure</td>\n",
              "      <td>I’m not actively looking, but I am open to new...</td>\n",
              "      <td>Less than a year ago</td>\n",
              "      <td>Write any code;Interview with people in peer r...</td>\n",
              "      <td>Yes</td>\n",
              "      <td>Financial performance or funding status of the...</td>\n",
              "      <td>I was preparing for a job search</td>\n",
              "      <td>NZD</td>\n",
              "      <td>New Zealand dollar</td>\n",
              "      <td>138000.0</td>\n",
              "      <td>Yearly</td>\n",
              "      <td>95179.0</td>\n",
              "      <td>32.0</td>\n",
              "      <td>There is a schedule and/or spec (made by me or...</td>\n",
              "      <td>Being tasked with non-development work;Inadequ...</td>\n",
              "      <td>Less than once per month / Never</td>\n",
              "      <td>Office</td>\n",
              "      <td>A little above average</td>\n",
              "      <td>Yes, because I see value in code review</td>\n",
              "      <td>12.0</td>\n",
              "      <td>...</td>\n",
              "      <td>DynamoDB;PostgreSQL;SQLite</td>\n",
              "      <td>PostgreSQL;Redis;SQLite</td>\n",
              "      <td>AWS;Docker;Heroku;Linux;MacOS;Slack</td>\n",
              "      <td>AWS;Docker;Heroku;Linux;MacOS;Slack;Other(s):</td>\n",
              "      <td>Express;Ruby on Rails;Other(s):</td>\n",
              "      <td>Express;Ruby on Rails;Other(s):</td>\n",
              "      <td>Node.js;Unity 3D</td>\n",
              "      <td>Node.js</td>\n",
              "      <td>Vim</td>\n",
              "      <td>MacOS</td>\n",
              "      <td>Development;Testing;Production</td>\n",
              "      <td>Not at all</td>\n",
              "      <td>An irresponsible use of resources</td>\n",
              "      <td>No</td>\n",
              "      <td>SIGH</td>\n",
              "      <td>Yes</td>\n",
              "      <td>Twitter</td>\n",
              "      <td>In real life (in person)</td>\n",
              "      <td>Username</td>\n",
              "      <td>2013</td>\n",
              "      <td>Daily or almost daily</td>\n",
              "      <td>Find answers to specific questions;Contribute ...</td>\n",
              "      <td>3-5 times per week</td>\n",
              "      <td>They were about the same</td>\n",
              "      <td>NaN</td>\n",
              "      <td>Yes</td>\n",
              "      <td>Less than once per month or monthly</td>\n",
              "      <td>No, I knew that Stack Overflow had a job board...</td>\n",
              "      <td>No, and I don't know what those are</td>\n",
              "      <td>Yes, somewhat</td>\n",
              "      <td>Just as welcome now as I felt last year</td>\n",
              "      <td>NaN</td>\n",
              "      <td>23.0</td>\n",
              "      <td>Man</td>\n",
              "      <td>No</td>\n",
              "      <td>Bisexual</td>\n",
              "      <td>White or of European descent</td>\n",
              "      <td>No</td>\n",
              "      <td>Appropriate in length</td>\n",
              "      <td>Neither easy nor difficult</td>\n",
              "    </tr>\n",
              "    <tr>\n",
              "      <th>9</th>\n",
              "      <td>10</td>\n",
              "      <td>I am a developer by profession</td>\n",
              "      <td>Yes</td>\n",
              "      <td>Once a month or more often</td>\n",
              "      <td>OSS is, on average, of HIGHER quality than pro...</td>\n",
              "      <td>Employed full-time</td>\n",
              "      <td>India</td>\n",
              "      <td>No</td>\n",
              "      <td>Master’s degree (MA, MS, M.Eng., MBA, etc.)</td>\n",
              "      <td>NaN</td>\n",
              "      <td>NaN</td>\n",
              "      <td>10,000 or more employees</td>\n",
              "      <td>Data or business analyst;Data scientist or mac...</td>\n",
              "      <td>12</td>\n",
              "      <td>20</td>\n",
              "      <td>10</td>\n",
              "      <td>Slightly dissatisfied</td>\n",
              "      <td>Slightly dissatisfied</td>\n",
              "      <td>Somewhat confident</td>\n",
              "      <td>Yes</td>\n",
              "      <td>Yes</td>\n",
              "      <td>I’m not actively looking, but I am open to new...</td>\n",
              "      <td>3-4 years ago</td>\n",
              "      <td>NaN</td>\n",
              "      <td>No</td>\n",
              "      <td>Languages, frameworks, and other technologies ...</td>\n",
              "      <td>NaN</td>\n",
              "      <td>INR</td>\n",
              "      <td>Indian rupee</td>\n",
              "      <td>950000.0</td>\n",
              "      <td>Yearly</td>\n",
              "      <td>13293.0</td>\n",
              "      <td>70.0</td>\n",
              "      <td>There's no schedule or spec; I work on what se...</td>\n",
              "      <td>NaN</td>\n",
              "      <td>A few days each month</td>\n",
              "      <td>Home</td>\n",
              "      <td>Far above average</td>\n",
              "      <td>Yes, because I see value in code review</td>\n",
              "      <td>4.0</td>\n",
              "      <td>...</td>\n",
              "      <td>Elasticsearch;MongoDB;Microsoft SQL Server;MyS...</td>\n",
              "      <td>Elasticsearch;MongoDB;Microsoft SQL Server</td>\n",
              "      <td>Linux;Windows</td>\n",
              "      <td>Android;Linux;Raspberry Pi;Windows</td>\n",
              "      <td>Angular/Angular.js;ASP.NET;Django;Express;Flas...</td>\n",
              "      <td>Angular/Angular.js;ASP.NET;Django;Express;Flas...</td>\n",
              "      <td>.NET;Node.js;Pandas;Torch/PyTorch</td>\n",
              "      <td>.NET;Node.js;TensorFlow;Torch/PyTorch</td>\n",
              "      <td>Android Studio;Eclipse;IPython / Jupyter;Notep...</td>\n",
              "      <td>Windows</td>\n",
              "      <td>NaN</td>\n",
              "      <td>Not at all</td>\n",
              "      <td>Useful for immutable record keeping outside of...</td>\n",
              "      <td>No</td>\n",
              "      <td>Yes</td>\n",
              "      <td>Yes</td>\n",
              "      <td>YouTube</td>\n",
              "      <td>Neither</td>\n",
              "      <td>Screen Name</td>\n",
              "      <td>NaN</td>\n",
              "      <td>Multiple times per day</td>\n",
              "      <td>Find answers to specific questions;Get a sense...</td>\n",
              "      <td>3-5 times per week</td>\n",
              "      <td>They were about the same</td>\n",
              "      <td>NaN</td>\n",
              "      <td>Yes</td>\n",
              "      <td>A few times per month or weekly</td>\n",
              "      <td>Yes</td>\n",
              "      <td>No, and I don't know what those are</td>\n",
              "      <td>Yes, somewhat</td>\n",
              "      <td>Somewhat less welcome now than last year</td>\n",
              "      <td>Tech articles written by other developers;Tech...</td>\n",
              "      <td>NaN</td>\n",
              "      <td>NaN</td>\n",
              "      <td>NaN</td>\n",
              "      <td>NaN</td>\n",
              "      <td>NaN</td>\n",
              "      <td>Yes</td>\n",
              "      <td>Too long</td>\n",
              "      <td>Difficult</td>\n",
              "    </tr>\n",
              "  </tbody>\n",
              "</table>\n",
              "<p>5 rows × 85 columns</p>\n",
              "</div>"
            ],
            "text/plain": [
              "   Respondent  ...                  SurveyEase\n",
              "3           4  ...                        Easy\n",
              "4           5  ...                        Easy\n",
              "6           7  ...  Neither easy nor difficult\n",
              "8           9  ...  Neither easy nor difficult\n",
              "9          10  ...                   Difficult\n",
              "\n",
              "[5 rows x 85 columns]"
            ]
          },
          "metadata": {
            "tags": []
          },
          "execution_count": 11
        }
      ]
    },
    {
      "cell_type": "code",
      "metadata": {
        "id": "05XKFC4Wz5MN",
        "colab_type": "code",
        "outputId": "2024ea92-eecf-440a-9c70-e175d4c2f1df",
        "colab": {
          "base_uri": "https://localhost:8080/",
          "height": 34
        }
      },
      "source": [
        "# Check if there are any missing data in the 'Country' column for the 'I am a developer by profession' respondents\n",
        "dev_data['Country'].isna().sum()"
      ],
      "execution_count": 12,
      "outputs": [
        {
          "output_type": "execute_result",
          "data": {
            "text/plain": [
              "0"
            ]
          },
          "metadata": {
            "tags": []
          },
          "execution_count": 12
        }
      ]
    },
    {
      "cell_type": "code",
      "metadata": {
        "id": "oXvMoeks0Hin",
        "colab_type": "code",
        "outputId": "eb6cc682-cff6-4ee8-8a70-0dfc6a715ac2",
        "colab": {
          "base_uri": "https://localhost:8080/",
          "height": 34
        }
      },
      "source": [
        "# Get the dimension of the entries by fulltime developers\n",
        "dev_data.shape"
      ],
      "execution_count": 13,
      "outputs": [
        {
          "output_type": "execute_result",
          "data": {
            "text/plain": [
              "(65679, 85)"
            ]
          },
          "metadata": {
            "tags": []
          },
          "execution_count": 13
        }
      ]
    },
    {
      "cell_type": "code",
      "metadata": {
        "id": "Zhy0uo4D02eg",
        "colab_type": "code",
        "outputId": "cbcd7277-79f4-4450-c7c7-e5025585526f",
        "colab": {
          "base_uri": "https://localhost:8080/",
          "height": 232
        }
      },
      "source": [
        "# Aggregate and group the total number of developers by country\n",
        "dev_data['Country'].value_counts()"
      ],
      "execution_count": 14,
      "outputs": [
        {
          "output_type": "execute_result",
          "data": {
            "text/plain": [
              "United States     16100\n",
              "India              6657\n",
              "United Kingdom     4456\n",
              "Germany            4244\n",
              "Canada             2504\n",
              "                  ...  \n",
              "Mali                  1\n",
              "Bahamas               1\n",
              "Malawi                1\n",
              "Namibia               1\n",
              "Chad                  1\n",
              "Name: Country, Length: 170, dtype: int64"
            ]
          },
          "metadata": {
            "tags": []
          },
          "execution_count": 14
        }
      ]
    },
    {
      "cell_type": "markdown",
      "metadata": {
        "id": "LF4YsioQ0GTE",
        "colab_type": "text"
      },
      "source": [
        "# 3.0 Data Exploration"
      ]
    },
    {
      "cell_type": "markdown",
      "metadata": {
        "id": "XwVMHIqC2j6x",
        "colab_type": "text"
      },
      "source": [
        "## 3.1 Developer Profile"
      ]
    },
    {
      "cell_type": "markdown",
      "metadata": {
        "id": "NHBAfYl90LEi",
        "colab_type": "text"
      },
      "source": [
        "### 3.1.1 Work Location of Developers in the Top 40 Countries"
      ]
    },
    {
      "cell_type": "code",
      "metadata": {
        "id": "VBqnb4QX6sxW",
        "colab_type": "code",
        "outputId": "230d5d57-01a2-40aa-ff1b-c83b5e93ef7d",
        "colab": {
          "base_uri": "https://localhost:8080/",
          "height": 160
        }
      },
      "source": [
        "# Create a list with the developers from the top 40 countries and view the top 8\n",
        "top_40_countries = list(dev_data['Country'].value_counts().head(40).index)\n",
        "top_40_countries[:8]"
      ],
      "execution_count": 15,
      "outputs": [
        {
          "output_type": "execute_result",
          "data": {
            "text/plain": [
              "['United States',\n",
              " 'India',\n",
              " 'United Kingdom',\n",
              " 'Germany',\n",
              " 'Canada',\n",
              " 'France',\n",
              " 'Brazil',\n",
              " 'Poland']"
            ]
          },
          "metadata": {
            "tags": []
          },
          "execution_count": 15
        }
      ]
    },
    {
      "cell_type": "code",
      "metadata": {
        "id": "BDaCqjJUknLo",
        "colab_type": "code",
        "outputId": "bbd1f675-daea-4453-ceff-e3fb5ec5fe9e",
        "colab": {
          "base_uri": "https://localhost:8080/",
          "height": 34
        }
      },
      "source": [
        "# Assign all developers in the top 40 countries to a new dataframe dev_data_40\n",
        "dev_data_40 = dev_data[dev_data['Country'].isin(top_40_countries)]\n",
        "dev_data_40.shape"
      ],
      "execution_count": 16,
      "outputs": [
        {
          "output_type": "execute_result",
          "data": {
            "text/plain": [
              "(58893, 85)"
            ]
          },
          "metadata": {
            "tags": []
          },
          "execution_count": 16
        }
      ]
    },
    {
      "cell_type": "code",
      "metadata": {
        "id": "JXsTLPUykZc_",
        "colab_type": "code",
        "outputId": "2920b90d-399e-4a81-a4f3-dd85f46a5e19",
        "colab": {
          "base_uri": "https://localhost:8080/",
          "height": 34
        }
      },
      "source": [
        "# Get a sense of any missing data in the Work Location column 'WorkLoc'\n",
        "dev_data_40['WorkLoc'].isnull().sum()"
      ],
      "execution_count": 17,
      "outputs": [
        {
          "output_type": "execute_result",
          "data": {
            "text/plain": [
              "2278"
            ]
          },
          "metadata": {
            "tags": []
          },
          "execution_count": 17
        }
      ]
    },
    {
      "cell_type": "code",
      "metadata": {
        "id": "tXl1eW4x3B6v",
        "colab_type": "code",
        "colab": {}
      },
      "source": [
        "# Use the mode to fill in any missing data in the Work Location column 'WorkLoc'\n",
        "# The mode is used as it does represent a central tendency of our categorical data and has a known valid relationship to it.\n",
        "dev_data_40['WorkLoc'] = dev_data_40['WorkLoc'].fillna(dev_data_40['WorkLoc'].mode()[0]);"
      ],
      "execution_count": 0,
      "outputs": []
    },
    {
      "cell_type": "code",
      "metadata": {
        "id": "zB9wa7jKnrnL",
        "colab_type": "code",
        "outputId": "bf41649a-2011-4536-b461-f9d2efa53c3a",
        "colab": {
          "base_uri": "https://localhost:8080/",
          "height": 34
        }
      },
      "source": [
        "# Check if there is still any missing data in the Work Location column 'WorkLoc'\n",
        "dev_data_40['WorkLoc'].isnull().sum()"
      ],
      "execution_count": 19,
      "outputs": [
        {
          "output_type": "execute_result",
          "data": {
            "text/plain": [
              "0"
            ]
          },
          "metadata": {
            "tags": []
          },
          "execution_count": 19
        }
      ]
    },
    {
      "cell_type": "code",
      "metadata": {
        "id": "akT7bq9J05Pm",
        "colab_type": "code",
        "outputId": "c652141f-9341-4c06-f1a3-102fde9bdddc",
        "colab": {
          "base_uri": "https://localhost:8080/",
          "height": 88
        }
      },
      "source": [
        "# Get a count of the locations where developers across the top 40 countries work from\n",
        "dev_data_40['WorkLoc'].value_counts()"
      ],
      "execution_count": 20,
      "outputs": [
        {
          "output_type": "execute_result",
          "data": {
            "text/plain": [
              "Office                                            35632\n",
              "Home                                              18662\n",
              "Other place, such as a coworking space or cafe     4599\n",
              "Name: WorkLoc, dtype: int64"
            ]
          },
          "metadata": {
            "tags": []
          },
          "execution_count": 20
        }
      ]
    },
    {
      "cell_type": "code",
      "metadata": {
        "id": "52hNPKkV8sNf",
        "colab_type": "code",
        "outputId": "1b716454-17cc-4994-bc89-815980627218",
        "colab": {
          "base_uri": "https://localhost:8080/",
          "height": 388
        }
      },
      "source": [
        "# Group the Work location 'WorkLoc' by countries and assign it to a new dataframe 'dev_data_40_aggregate'\n",
        "dev_data_40_aggregate = dev_data_40.groupby(['Country', 'WorkLoc'], as_index=False)['Respondent'].count()\n",
        "dev_data_40_aggregate"
      ],
      "execution_count": 21,
      "outputs": [
        {
          "output_type": "execute_result",
          "data": {
            "text/html": [
              "<div>\n",
              "<style scoped>\n",
              "    .dataframe tbody tr th:only-of-type {\n",
              "        vertical-align: middle;\n",
              "    }\n",
              "\n",
              "    .dataframe tbody tr th {\n",
              "        vertical-align: top;\n",
              "    }\n",
              "\n",
              "    .dataframe thead th {\n",
              "        text-align: right;\n",
              "    }\n",
              "</style>\n",
              "<table border=\"1\" class=\"dataframe\">\n",
              "  <thead>\n",
              "    <tr style=\"text-align: right;\">\n",
              "      <th></th>\n",
              "      <th>Country</th>\n",
              "      <th>WorkLoc</th>\n",
              "      <th>Respondent</th>\n",
              "    </tr>\n",
              "  </thead>\n",
              "  <tbody>\n",
              "    <tr>\n",
              "      <th>0</th>\n",
              "      <td>Argentina</td>\n",
              "      <td>Home</td>\n",
              "      <td>201</td>\n",
              "    </tr>\n",
              "    <tr>\n",
              "      <th>1</th>\n",
              "      <td>Argentina</td>\n",
              "      <td>Office</td>\n",
              "      <td>193</td>\n",
              "    </tr>\n",
              "    <tr>\n",
              "      <th>2</th>\n",
              "      <td>Argentina</td>\n",
              "      <td>Other place, such as a coworking space or cafe</td>\n",
              "      <td>45</td>\n",
              "    </tr>\n",
              "    <tr>\n",
              "      <th>3</th>\n",
              "      <td>Australia</td>\n",
              "      <td>Home</td>\n",
              "      <td>470</td>\n",
              "    </tr>\n",
              "    <tr>\n",
              "      <th>4</th>\n",
              "      <td>Australia</td>\n",
              "      <td>Office</td>\n",
              "      <td>847</td>\n",
              "    </tr>\n",
              "    <tr>\n",
              "      <th>...</th>\n",
              "      <td>...</td>\n",
              "      <td>...</td>\n",
              "      <td>...</td>\n",
              "    </tr>\n",
              "    <tr>\n",
              "      <th>115</th>\n",
              "      <td>United Kingdom</td>\n",
              "      <td>Office</td>\n",
              "      <td>2690</td>\n",
              "    </tr>\n",
              "    <tr>\n",
              "      <th>116</th>\n",
              "      <td>United Kingdom</td>\n",
              "      <td>Other place, such as a coworking space or cafe</td>\n",
              "      <td>288</td>\n",
              "    </tr>\n",
              "    <tr>\n",
              "      <th>117</th>\n",
              "      <td>United States</td>\n",
              "      <td>Home</td>\n",
              "      <td>6013</td>\n",
              "    </tr>\n",
              "    <tr>\n",
              "      <th>118</th>\n",
              "      <td>United States</td>\n",
              "      <td>Office</td>\n",
              "      <td>8879</td>\n",
              "    </tr>\n",
              "    <tr>\n",
              "      <th>119</th>\n",
              "      <td>United States</td>\n",
              "      <td>Other place, such as a coworking space or cafe</td>\n",
              "      <td>1208</td>\n",
              "    </tr>\n",
              "  </tbody>\n",
              "</table>\n",
              "<p>120 rows × 3 columns</p>\n",
              "</div>"
            ],
            "text/plain": [
              "            Country                                         WorkLoc  Respondent\n",
              "0         Argentina                                            Home         201\n",
              "1         Argentina                                          Office         193\n",
              "2         Argentina  Other place, such as a coworking space or cafe          45\n",
              "3         Australia                                            Home         470\n",
              "4         Australia                                          Office         847\n",
              "..              ...                                             ...         ...\n",
              "115  United Kingdom                                          Office        2690\n",
              "116  United Kingdom  Other place, such as a coworking space or cafe         288\n",
              "117   United States                                            Home        6013\n",
              "118   United States                                          Office        8879\n",
              "119   United States  Other place, such as a coworking space or cafe        1208\n",
              "\n",
              "[120 rows x 3 columns]"
            ]
          },
          "metadata": {
            "tags": []
          },
          "execution_count": 21
        }
      ]
    },
    {
      "cell_type": "code",
      "metadata": {
        "id": "eVVddekrDymj",
        "colab_type": "code",
        "outputId": "f9d283f9-770c-4c5f-ad63-79bd75241ae8",
        "colab": {
          "base_uri": "https://localhost:8080/",
          "height": 388
        }
      },
      "source": [
        "# Sum all the repondednts by country in the top 40 countries and assign it to 'dev_data_40_sum'\n",
        "dev_data_40_sum = dev_data_40['Country'].value_counts()\n",
        "\n",
        "# Apply the function to add that to a new column 'Respondents Percentage' in 'dev_data_40_aggregate'\n",
        "dev_data_40_aggregate['Respondent Percentage'] = dev_data_40_aggregate.apply(lambda x: x['Respondent'] / dev_data_40_sum[x['Country']], axis=1).round(3)\n",
        "dev_data_40_aggregate[['Country', 'WorkLoc', 'Respondent Percentage']]"
      ],
      "execution_count": 22,
      "outputs": [
        {
          "output_type": "execute_result",
          "data": {
            "text/html": [
              "<div>\n",
              "<style scoped>\n",
              "    .dataframe tbody tr th:only-of-type {\n",
              "        vertical-align: middle;\n",
              "    }\n",
              "\n",
              "    .dataframe tbody tr th {\n",
              "        vertical-align: top;\n",
              "    }\n",
              "\n",
              "    .dataframe thead th {\n",
              "        text-align: right;\n",
              "    }\n",
              "</style>\n",
              "<table border=\"1\" class=\"dataframe\">\n",
              "  <thead>\n",
              "    <tr style=\"text-align: right;\">\n",
              "      <th></th>\n",
              "      <th>Country</th>\n",
              "      <th>WorkLoc</th>\n",
              "      <th>Respondent Percentage</th>\n",
              "    </tr>\n",
              "  </thead>\n",
              "  <tbody>\n",
              "    <tr>\n",
              "      <th>0</th>\n",
              "      <td>Argentina</td>\n",
              "      <td>Home</td>\n",
              "      <td>0.458</td>\n",
              "    </tr>\n",
              "    <tr>\n",
              "      <th>1</th>\n",
              "      <td>Argentina</td>\n",
              "      <td>Office</td>\n",
              "      <td>0.440</td>\n",
              "    </tr>\n",
              "    <tr>\n",
              "      <th>2</th>\n",
              "      <td>Argentina</td>\n",
              "      <td>Other place, such as a coworking space or cafe</td>\n",
              "      <td>0.103</td>\n",
              "    </tr>\n",
              "    <tr>\n",
              "      <th>3</th>\n",
              "      <td>Australia</td>\n",
              "      <td>Home</td>\n",
              "      <td>0.328</td>\n",
              "    </tr>\n",
              "    <tr>\n",
              "      <th>4</th>\n",
              "      <td>Australia</td>\n",
              "      <td>Office</td>\n",
              "      <td>0.591</td>\n",
              "    </tr>\n",
              "    <tr>\n",
              "      <th>...</th>\n",
              "      <td>...</td>\n",
              "      <td>...</td>\n",
              "      <td>...</td>\n",
              "    </tr>\n",
              "    <tr>\n",
              "      <th>115</th>\n",
              "      <td>United Kingdom</td>\n",
              "      <td>Office</td>\n",
              "      <td>0.604</td>\n",
              "    </tr>\n",
              "    <tr>\n",
              "      <th>116</th>\n",
              "      <td>United Kingdom</td>\n",
              "      <td>Other place, such as a coworking space or cafe</td>\n",
              "      <td>0.065</td>\n",
              "    </tr>\n",
              "    <tr>\n",
              "      <th>117</th>\n",
              "      <td>United States</td>\n",
              "      <td>Home</td>\n",
              "      <td>0.373</td>\n",
              "    </tr>\n",
              "    <tr>\n",
              "      <th>118</th>\n",
              "      <td>United States</td>\n",
              "      <td>Office</td>\n",
              "      <td>0.551</td>\n",
              "    </tr>\n",
              "    <tr>\n",
              "      <th>119</th>\n",
              "      <td>United States</td>\n",
              "      <td>Other place, such as a coworking space or cafe</td>\n",
              "      <td>0.075</td>\n",
              "    </tr>\n",
              "  </tbody>\n",
              "</table>\n",
              "<p>120 rows × 3 columns</p>\n",
              "</div>"
            ],
            "text/plain": [
              "            Country  ... Respondent Percentage\n",
              "0         Argentina  ...                 0.458\n",
              "1         Argentina  ...                 0.440\n",
              "2         Argentina  ...                 0.103\n",
              "3         Australia  ...                 0.328\n",
              "4         Australia  ...                 0.591\n",
              "..              ...  ...                   ...\n",
              "115  United Kingdom  ...                 0.604\n",
              "116  United Kingdom  ...                 0.065\n",
              "117   United States  ...                 0.373\n",
              "118   United States  ...                 0.551\n",
              "119   United States  ...                 0.075\n",
              "\n",
              "[120 rows x 3 columns]"
            ]
          },
          "metadata": {
            "tags": []
          },
          "execution_count": 22
        }
      ]
    },
    {
      "cell_type": "code",
      "metadata": {
        "id": "Ni8JkzkrIw2z",
        "colab_type": "code",
        "outputId": "b545d22b-e1d2-4d00-b467-033d74cbb81f",
        "colab": {
          "base_uri": "https://localhost:8080/",
          "height": 877
        }
      },
      "source": [
        "# We can now pivot the data\n",
        "dev_data_pivot = pd.pivot(dev_data_40_aggregate, index='Country', values='Respondent Percentage', columns='WorkLoc').sort_values('Home', ascending=True)\n",
        "\n",
        "# Create a function plot_data(pivot_data, a, b, x, y) to visualize our data\n",
        "def plot_data(pivot_data, a, b, x, y):\n",
        "  '''This is a reusable function that would help us to plot the pivot data\n",
        "  and produce a visualization of the same.'''\n",
        "\n",
        "  pivot_data.plot(kind=a, stacked=True, figsize=b)\n",
        "  plt.legend(loc='upper left', bbox_to_anchor=(1,1));\n",
        "  x = plt.xlabel(x)\n",
        "  y = plt.ylabel(y)\n",
        "\n",
        "  return plt.show()\n",
        "\n",
        "# Next, we vsualize our data\n",
        "plot_data(dev_data_pivot, 'barh', (15, 15), 'Work Location Percentage by Country', 'Country')"
      ],
      "execution_count": 71,
      "outputs": [
        {
          "output_type": "display_data",
          "data": {
            "image/png": "[encoded data removed]",
            "text/plain": [
              "<Figure size 1080x1080 with 1 Axes>"
            ]
          },
          "metadata": {
            "tags": [],
            "needs_background": "light"
          }
        }
      ]
    },
    {
      "cell_type": "markdown",
      "metadata": {
        "id": "GAcn--IHk2JY",
        "colab_type": "text"
      },
      "source": [
        "From our visualization, we see that **about 45% of developers in Argentina work from home and this is followed by South Africa and Nigeria**. While about **80% of developers in Denmark and Finland work from the 'office'**. Following this, **Japan, Turkey and Nigeria at 18% a piece have the highest number of developers who say they work in 'other place, such as a coworking space or cafe'**. "
      ]
    },
    {
      "cell_type": "markdown",
      "metadata": {
        "id": "sAIaqn9X3iuA",
        "colab_type": "text"
      },
      "source": [
        "## 3.2 Technology"
      ]
    },
    {
      "cell_type": "markdown",
      "metadata": {
        "id": "-uf33hKi3-qW",
        "colab_type": "text"
      },
      "source": [
        "### 3.2.1 Operating System Used By Developers in the Top 40 Countries"
      ]
    },
    {
      "cell_type": "code",
      "metadata": {
        "id": "crkGavuW4Hmw",
        "colab_type": "code",
        "outputId": "11270eeb-724e-4be6-aeb0-611678618afb",
        "colab": {
          "base_uri": "https://localhost:8080/",
          "height": 106
        }
      },
      "source": [
        "# Get a count of the operating systems used by developers in the top 40 countries\n",
        "dev_data_40['OpSys'].value_counts()"
      ],
      "execution_count": 55,
      "outputs": [
        {
          "output_type": "execute_result",
          "data": {
            "text/plain": [
              "Windows        26001\n",
              "MacOS          17851\n",
              "Linux-based    14532\n",
              "BSD               56\n",
              "Name: OpSys, dtype: int64"
            ]
          },
          "metadata": {
            "tags": []
          },
          "execution_count": 55
        }
      ]
    },
    {
      "cell_type": "code",
      "metadata": {
        "id": "YfZgzVLSkM-h",
        "colab_type": "code",
        "outputId": "2ea46609-bc0f-4437-8635-36037ffe88a3",
        "colab": {
          "base_uri": "https://localhost:8080/",
          "height": 34
        }
      },
      "source": [
        "# Get a sense of the missing data in the operating system column 'OpSys'\n",
        "dev_data_40['OpSys'].isnull().sum()"
      ],
      "execution_count": 56,
      "outputs": [
        {
          "output_type": "execute_result",
          "data": {
            "text/plain": [
              "453"
            ]
          },
          "metadata": {
            "tags": []
          },
          "execution_count": 56
        }
      ]
    },
    {
      "cell_type": "code",
      "metadata": {
        "id": "hSh4oGfRSLnH",
        "colab_type": "code",
        "colab": {}
      },
      "source": [
        "#Use the mode to fill in any missing data in the column 'OpSys'\n",
        "# The mode is used as it does represent a central tendency of our categorical data and has a known valid relationship to it.\n",
        "dev_data_40['OpSys'] = dev_data_40['OpSys'].fillna(dev_data_40['OpSys'].mode()[0]);"
      ],
      "execution_count": 0,
      "outputs": []
    },
    {
      "cell_type": "code",
      "metadata": {
        "id": "hL8XCV0lPzmo",
        "colab_type": "code",
        "outputId": "aeaa7b62-6038-44a5-b7dc-fd208c38ea5f",
        "colab": {
          "base_uri": "https://localhost:8080/",
          "height": 34
        }
      },
      "source": [
        "# Check if there are any missing data in the operating system column 'OpSys'\n",
        "dev_data_40['OpSys'].isnull().sum()"
      ],
      "execution_count": 60,
      "outputs": [
        {
          "output_type": "execute_result",
          "data": {
            "text/plain": [
              "0"
            ]
          },
          "metadata": {
            "tags": []
          },
          "execution_count": 60
        }
      ]
    },
    {
      "cell_type": "code",
      "metadata": {
        "id": "3Ej5ceHhS3Vq",
        "colab_type": "code",
        "outputId": "74ed61c5-015a-4036-a689-fdc9e9fd34ad",
        "colab": {
          "base_uri": "https://localhost:8080/",
          "height": 388
        }
      },
      "source": [
        "# Group the Operating System 'OpSys' used by developers across the top 40 countries\n",
        "dev_data_40_aggregate_opsys = dev_data_40.groupby(['Country', 'OpSys'], as_index=False)['Respondent'].count()\n",
        "dev_data_40_aggregate_opsys"
      ],
      "execution_count": 61,
      "outputs": [
        {
          "output_type": "execute_result",
          "data": {
            "text/html": [
              "<div>\n",
              "<style scoped>\n",
              "    .dataframe tbody tr th:only-of-type {\n",
              "        vertical-align: middle;\n",
              "    }\n",
              "\n",
              "    .dataframe tbody tr th {\n",
              "        vertical-align: top;\n",
              "    }\n",
              "\n",
              "    .dataframe thead th {\n",
              "        text-align: right;\n",
              "    }\n",
              "</style>\n",
              "<table border=\"1\" class=\"dataframe\">\n",
              "  <thead>\n",
              "    <tr style=\"text-align: right;\">\n",
              "      <th></th>\n",
              "      <th>Country</th>\n",
              "      <th>OpSys</th>\n",
              "      <th>Respondent</th>\n",
              "    </tr>\n",
              "  </thead>\n",
              "  <tbody>\n",
              "    <tr>\n",
              "      <th>0</th>\n",
              "      <td>Argentina</td>\n",
              "      <td>Linux-based</td>\n",
              "      <td>160</td>\n",
              "    </tr>\n",
              "    <tr>\n",
              "      <th>1</th>\n",
              "      <td>Argentina</td>\n",
              "      <td>MacOS</td>\n",
              "      <td>114</td>\n",
              "    </tr>\n",
              "    <tr>\n",
              "      <th>2</th>\n",
              "      <td>Argentina</td>\n",
              "      <td>Windows</td>\n",
              "      <td>165</td>\n",
              "    </tr>\n",
              "    <tr>\n",
              "      <th>3</th>\n",
              "      <td>Australia</td>\n",
              "      <td>BSD</td>\n",
              "      <td>1</td>\n",
              "    </tr>\n",
              "    <tr>\n",
              "      <th>4</th>\n",
              "      <td>Australia</td>\n",
              "      <td>Linux-based</td>\n",
              "      <td>280</td>\n",
              "    </tr>\n",
              "    <tr>\n",
              "      <th>...</th>\n",
              "      <td>...</td>\n",
              "      <td>...</td>\n",
              "      <td>...</td>\n",
              "    </tr>\n",
              "    <tr>\n",
              "      <th>136</th>\n",
              "      <td>United Kingdom</td>\n",
              "      <td>Windows</td>\n",
              "      <td>2147</td>\n",
              "    </tr>\n",
              "    <tr>\n",
              "      <th>137</th>\n",
              "      <td>United States</td>\n",
              "      <td>BSD</td>\n",
              "      <td>16</td>\n",
              "    </tr>\n",
              "    <tr>\n",
              "      <th>138</th>\n",
              "      <td>United States</td>\n",
              "      <td>Linux-based</td>\n",
              "      <td>3154</td>\n",
              "    </tr>\n",
              "    <tr>\n",
              "      <th>139</th>\n",
              "      <td>United States</td>\n",
              "      <td>MacOS</td>\n",
              "      <td>6355</td>\n",
              "    </tr>\n",
              "    <tr>\n",
              "      <th>140</th>\n",
              "      <td>United States</td>\n",
              "      <td>Windows</td>\n",
              "      <td>6575</td>\n",
              "    </tr>\n",
              "  </tbody>\n",
              "</table>\n",
              "<p>141 rows × 3 columns</p>\n",
              "</div>"
            ],
            "text/plain": [
              "            Country        OpSys  Respondent\n",
              "0         Argentina  Linux-based         160\n",
              "1         Argentina        MacOS         114\n",
              "2         Argentina      Windows         165\n",
              "3         Australia          BSD           1\n",
              "4         Australia  Linux-based         280\n",
              "..              ...          ...         ...\n",
              "136  United Kingdom      Windows        2147\n",
              "137   United States          BSD          16\n",
              "138   United States  Linux-based        3154\n",
              "139   United States        MacOS        6355\n",
              "140   United States      Windows        6575\n",
              "\n",
              "[141 rows x 3 columns]"
            ]
          },
          "metadata": {
            "tags": []
          },
          "execution_count": 61
        }
      ]
    },
    {
      "cell_type": "code",
      "metadata": {
        "id": "6SA4qfHkTZf9",
        "colab_type": "code",
        "outputId": "cdffb0b1-b9e6-4cc1-e09f-17e15fc2952c",
        "colab": {
          "base_uri": "https://localhost:8080/",
          "height": 388
        }
      },
      "source": [
        "# Create a function to get the percentage of respondents by country in the top 40 countries \n",
        "# Apply the function to add that to a new column 'Respondents Percentage' in the new dataframe 'dev_data_40_aggregate_opsys'\n",
        "dev_data_40_aggregate_opsys['Respondent Percentage'] = dev_data_40_aggregate_opsys.apply(lambda x: x['Respondent'] / dev_data_40_sum[x['Country']], axis=1).round(3)\n",
        "dev_data_40_aggregate_opsys[['Country', 'OpSys', 'Respondent Percentage']]"
      ],
      "execution_count": 62,
      "outputs": [
        {
          "output_type": "execute_result",
          "data": {
            "text/html": [
              "<div>\n",
              "<style scoped>\n",
              "    .dataframe tbody tr th:only-of-type {\n",
              "        vertical-align: middle;\n",
              "    }\n",
              "\n",
              "    .dataframe tbody tr th {\n",
              "        vertical-align: top;\n",
              "    }\n",
              "\n",
              "    .dataframe thead th {\n",
              "        text-align: right;\n",
              "    }\n",
              "</style>\n",
              "<table border=\"1\" class=\"dataframe\">\n",
              "  <thead>\n",
              "    <tr style=\"text-align: right;\">\n",
              "      <th></th>\n",
              "      <th>Country</th>\n",
              "      <th>OpSys</th>\n",
              "      <th>Respondent Percentage</th>\n",
              "    </tr>\n",
              "  </thead>\n",
              "  <tbody>\n",
              "    <tr>\n",
              "      <th>0</th>\n",
              "      <td>Argentina</td>\n",
              "      <td>Linux-based</td>\n",
              "      <td>0.364</td>\n",
              "    </tr>\n",
              "    <tr>\n",
              "      <th>1</th>\n",
              "      <td>Argentina</td>\n",
              "      <td>MacOS</td>\n",
              "      <td>0.260</td>\n",
              "    </tr>\n",
              "    <tr>\n",
              "      <th>2</th>\n",
              "      <td>Argentina</td>\n",
              "      <td>Windows</td>\n",
              "      <td>0.376</td>\n",
              "    </tr>\n",
              "    <tr>\n",
              "      <th>3</th>\n",
              "      <td>Australia</td>\n",
              "      <td>BSD</td>\n",
              "      <td>0.001</td>\n",
              "    </tr>\n",
              "    <tr>\n",
              "      <th>4</th>\n",
              "      <td>Australia</td>\n",
              "      <td>Linux-based</td>\n",
              "      <td>0.195</td>\n",
              "    </tr>\n",
              "    <tr>\n",
              "      <th>...</th>\n",
              "      <td>...</td>\n",
              "      <td>...</td>\n",
              "      <td>...</td>\n",
              "    </tr>\n",
              "    <tr>\n",
              "      <th>136</th>\n",
              "      <td>United Kingdom</td>\n",
              "      <td>Windows</td>\n",
              "      <td>0.482</td>\n",
              "    </tr>\n",
              "    <tr>\n",
              "      <th>137</th>\n",
              "      <td>United States</td>\n",
              "      <td>BSD</td>\n",
              "      <td>0.001</td>\n",
              "    </tr>\n",
              "    <tr>\n",
              "      <th>138</th>\n",
              "      <td>United States</td>\n",
              "      <td>Linux-based</td>\n",
              "      <td>0.196</td>\n",
              "    </tr>\n",
              "    <tr>\n",
              "      <th>139</th>\n",
              "      <td>United States</td>\n",
              "      <td>MacOS</td>\n",
              "      <td>0.395</td>\n",
              "    </tr>\n",
              "    <tr>\n",
              "      <th>140</th>\n",
              "      <td>United States</td>\n",
              "      <td>Windows</td>\n",
              "      <td>0.408</td>\n",
              "    </tr>\n",
              "  </tbody>\n",
              "</table>\n",
              "<p>141 rows × 3 columns</p>\n",
              "</div>"
            ],
            "text/plain": [
              "            Country        OpSys  Respondent Percentage\n",
              "0         Argentina  Linux-based                  0.364\n",
              "1         Argentina        MacOS                  0.260\n",
              "2         Argentina      Windows                  0.376\n",
              "3         Australia          BSD                  0.001\n",
              "4         Australia  Linux-based                  0.195\n",
              "..              ...          ...                    ...\n",
              "136  United Kingdom      Windows                  0.482\n",
              "137   United States          BSD                  0.001\n",
              "138   United States  Linux-based                  0.196\n",
              "139   United States        MacOS                  0.395\n",
              "140   United States      Windows                  0.408\n",
              "\n",
              "[141 rows x 3 columns]"
            ]
          },
          "metadata": {
            "tags": []
          },
          "execution_count": 62
        }
      ]
    },
    {
      "cell_type": "code",
      "metadata": {
        "id": "ENpLDKVyUIsM",
        "colab_type": "code",
        "outputId": "63d06dfc-0a26-45b1-b678-f9c68c14c984",
        "colab": {
          "base_uri": "https://localhost:8080/",
          "height": 961
        }
      },
      "source": [
        "# We can now pivot the data\n",
        "dev_data_pivot_opsys = pd.pivot(dev_data_40_aggregate_opsys, index='Country', values='Respondent Percentage', columns='OpSys').sort_values('Windows', ascending=False)\n",
        "\n",
        "# Next, we vsualize our data\n",
        "plot_data(dev_data_pivot_opsys, 'bar', (15, 15), 'Country', 'The Percentage of Operating Systems Used by Country')"
      ],
      "execution_count": 72,
      "outputs": [
        {
          "output_type": "display_data",
          "data": {
            "image/png": "[encoded data removed]",
            "text/plain": [
              "<Figure size 1080x1080 with 1 Axes>"
            ]
          },
          "metadata": {
            "tags": [],
            "needs_background": "light"
          }
        }
      ]
    },
    {
      "cell_type": "markdown",
      "metadata": {
        "id": "Isd65whun_rI",
        "colab_type": "text"
      },
      "source": [
        "The Windows operating system happens to be the most used from all the developers in the top 40 countries. **We see South Africa and Pakistan at 61% a piece leading the pack of developers who use the Windows operating system**. On the other hand, **developers from Japan lead in the use of the MacOS at about 45%**. In addition, **developers from Argentina, France and Brazil lead in the use of the Linux-based operating system at about 38% a piece**. Lastly, **the BSD operating system has a very small usage rate in Ukraine and China.**"
      ]
    },
    {
      "cell_type": "markdown",
      "metadata": {
        "id": "2betI3414bgE",
        "colab_type": "text"
      },
      "source": [
        "## 3.3 Employment"
      ]
    },
    {
      "cell_type": "markdown",
      "metadata": {
        "id": "KFdXYLKi4ogg",
        "colab_type": "text"
      },
      "source": [
        "### 3.3.1 Employment Type of Developers in the Top 40 Countries"
      ]
    },
    {
      "cell_type": "code",
      "metadata": {
        "id": "kFIbrW1_4wov",
        "colab_type": "code",
        "outputId": "339bb5e9-17e7-46ad-f522-868b2a10a089",
        "colab": {
          "base_uri": "https://localhost:8080/",
          "height": 142
        }
      },
      "source": [
        "# Get a count of the operating systems used by developers in the top 40 countries\n",
        "dev_data_40['Employment'].value_counts()"
      ],
      "execution_count": 64,
      "outputs": [
        {
          "output_type": "execute_result",
          "data": {
            "text/plain": [
              "Employed full-time                                      50075\n",
              "Independent contractor, freelancer, or self-employed     5219\n",
              "Employed part-time                                       2093\n",
              "Not employed, but looking for work                       1009\n",
              "Not employed, and not looking for work                    185\n",
              "Retired                                                    51\n",
              "Name: Employment, dtype: int64"
            ]
          },
          "metadata": {
            "tags": []
          },
          "execution_count": 64
        }
      ]
    },
    {
      "cell_type": "code",
      "metadata": {
        "id": "4vDReAhPbWMV",
        "colab_type": "code",
        "outputId": "024a00c3-7a97-4dbd-86b0-82b13797b012",
        "colab": {
          "base_uri": "https://localhost:8080/",
          "height": 34
        }
      },
      "source": [
        "# Get an idea of the missing data in the column 'Employment'\n",
        "dev_data_40['Employment'].isna().sum()"
      ],
      "execution_count": 65,
      "outputs": [
        {
          "output_type": "execute_result",
          "data": {
            "text/plain": [
              "261"
            ]
          },
          "metadata": {
            "tags": []
          },
          "execution_count": 65
        }
      ]
    },
    {
      "cell_type": "code",
      "metadata": {
        "id": "y7OU-msRbiWb",
        "colab_type": "code",
        "colab": {}
      },
      "source": [
        "#Use the mode to fill in any missing data in the column 'Employment'\n",
        "# The mode is used as it does represent a central tendency of our categorical data and has a known valid relationship to it.\n",
        "dev_data_40['Employment'] = dev_data['Employment'].fillna(dev_data['Employment'].mode()[0]);"
      ],
      "execution_count": 0,
      "outputs": []
    },
    {
      "cell_type": "code",
      "metadata": {
        "id": "8_8pedenceIT",
        "colab_type": "code",
        "outputId": "ccbe0b45-c62d-4fdd-e69d-d59ed2124118",
        "colab": {
          "base_uri": "https://localhost:8080/",
          "height": 34
        }
      },
      "source": [
        "# Check if there are any missing data in the operating system column 'Employment'\n",
        "dev_data_40['Employment'].isna().sum()"
      ],
      "execution_count": 67,
      "outputs": [
        {
          "output_type": "execute_result",
          "data": {
            "text/plain": [
              "0"
            ]
          },
          "metadata": {
            "tags": []
          },
          "execution_count": 67
        }
      ]
    },
    {
      "cell_type": "code",
      "metadata": {
        "id": "59Jw8PyzciO9",
        "colab_type": "code",
        "outputId": "316abf7d-505f-49a5-8dbf-f3de2b6d6280",
        "colab": {
          "base_uri": "https://localhost:8080/",
          "height": 388
        }
      },
      "source": [
        "# Group the Empoyment Type 'Employment' of developers across the top 40 countries\n",
        "dev_data_40_aggregate_emp = dev_data_40.groupby(['Country', 'Employment'], as_index=False)['Respondent'].count()\n",
        "dev_data_40_aggregate_emp"
      ],
      "execution_count": 68,
      "outputs": [
        {
          "output_type": "execute_result",
          "data": {
            "text/html": [
              "<div>\n",
              "<style scoped>\n",
              "    .dataframe tbody tr th:only-of-type {\n",
              "        vertical-align: middle;\n",
              "    }\n",
              "\n",
              "    .dataframe tbody tr th {\n",
              "        vertical-align: top;\n",
              "    }\n",
              "\n",
              "    .dataframe thead th {\n",
              "        text-align: right;\n",
              "    }\n",
              "</style>\n",
              "<table border=\"1\" class=\"dataframe\">\n",
              "  <thead>\n",
              "    <tr style=\"text-align: right;\">\n",
              "      <th></th>\n",
              "      <th>Country</th>\n",
              "      <th>Employment</th>\n",
              "      <th>Respondent</th>\n",
              "    </tr>\n",
              "  </thead>\n",
              "  <tbody>\n",
              "    <tr>\n",
              "      <th>0</th>\n",
              "      <td>Argentina</td>\n",
              "      <td>Employed full-time</td>\n",
              "      <td>321</td>\n",
              "    </tr>\n",
              "    <tr>\n",
              "      <th>1</th>\n",
              "      <td>Argentina</td>\n",
              "      <td>Employed part-time</td>\n",
              "      <td>30</td>\n",
              "    </tr>\n",
              "    <tr>\n",
              "      <th>2</th>\n",
              "      <td>Argentina</td>\n",
              "      <td>Independent contractor, freelancer, or self-em...</td>\n",
              "      <td>80</td>\n",
              "    </tr>\n",
              "    <tr>\n",
              "      <th>3</th>\n",
              "      <td>Argentina</td>\n",
              "      <td>Not employed, but looking for work</td>\n",
              "      <td>8</td>\n",
              "    </tr>\n",
              "    <tr>\n",
              "      <th>4</th>\n",
              "      <td>Australia</td>\n",
              "      <td>Employed full-time</td>\n",
              "      <td>1210</td>\n",
              "    </tr>\n",
              "    <tr>\n",
              "      <th>...</th>\n",
              "      <td>...</td>\n",
              "      <td>...</td>\n",
              "      <td>...</td>\n",
              "    </tr>\n",
              "    <tr>\n",
              "      <th>200</th>\n",
              "      <td>United States</td>\n",
              "      <td>Employed part-time</td>\n",
              "      <td>296</td>\n",
              "    </tr>\n",
              "    <tr>\n",
              "      <th>201</th>\n",
              "      <td>United States</td>\n",
              "      <td>Independent contractor, freelancer, or self-em...</td>\n",
              "      <td>959</td>\n",
              "    </tr>\n",
              "    <tr>\n",
              "      <th>202</th>\n",
              "      <td>United States</td>\n",
              "      <td>Not employed, and not looking for work</td>\n",
              "      <td>45</td>\n",
              "    </tr>\n",
              "    <tr>\n",
              "      <th>203</th>\n",
              "      <td>United States</td>\n",
              "      <td>Not employed, but looking for work</td>\n",
              "      <td>303</td>\n",
              "    </tr>\n",
              "    <tr>\n",
              "      <th>204</th>\n",
              "      <td>United States</td>\n",
              "      <td>Retired</td>\n",
              "      <td>27</td>\n",
              "    </tr>\n",
              "  </tbody>\n",
              "</table>\n",
              "<p>205 rows × 3 columns</p>\n",
              "</div>"
            ],
            "text/plain": [
              "           Country  ... Respondent\n",
              "0        Argentina  ...        321\n",
              "1        Argentina  ...         30\n",
              "2        Argentina  ...         80\n",
              "3        Argentina  ...          8\n",
              "4        Australia  ...       1210\n",
              "..             ...  ...        ...\n",
              "200  United States  ...        296\n",
              "201  United States  ...        959\n",
              "202  United States  ...         45\n",
              "203  United States  ...        303\n",
              "204  United States  ...         27\n",
              "\n",
              "[205 rows x 3 columns]"
            ]
          },
          "metadata": {
            "tags": []
          },
          "execution_count": 68
        }
      ]
    },
    {
      "cell_type": "code",
      "metadata": {
        "id": "5k_3TIGccyMP",
        "colab_type": "code",
        "outputId": "15e187f6-0073-4f15-e13c-434ef01062eb",
        "colab": {
          "base_uri": "https://localhost:8080/",
          "height": 388
        }
      },
      "source": [
        "# Create a function to get the percentage of respondents by country in the top 40 countries \n",
        "# Apply the function to add that to a new column 'Respondents Percentage' in new dataframe 'dev_data_40_aggregate_emp'\n",
        "dev_data_40_aggregate_emp['Respondent Percentage'] = dev_data_40_aggregate_emp.apply(lambda x: x['Respondent'] / dev_data_40_sum[x['Country']], axis=1).round(3)\n",
        "dev_data_40_aggregate_emp[['Country', 'Employment', 'Respondent Percentage']]"
      ],
      "execution_count": 69,
      "outputs": [
        {
          "output_type": "execute_result",
          "data": {
            "text/html": [
              "<div>\n",
              "<style scoped>\n",
              "    .dataframe tbody tr th:only-of-type {\n",
              "        vertical-align: middle;\n",
              "    }\n",
              "\n",
              "    .dataframe tbody tr th {\n",
              "        vertical-align: top;\n",
              "    }\n",
              "\n",
              "    .dataframe thead th {\n",
              "        text-align: right;\n",
              "    }\n",
              "</style>\n",
              "<table border=\"1\" class=\"dataframe\">\n",
              "  <thead>\n",
              "    <tr style=\"text-align: right;\">\n",
              "      <th></th>\n",
              "      <th>Country</th>\n",
              "      <th>Employment</th>\n",
              "      <th>Respondent Percentage</th>\n",
              "    </tr>\n",
              "  </thead>\n",
              "  <tbody>\n",
              "    <tr>\n",
              "      <th>0</th>\n",
              "      <td>Argentina</td>\n",
              "      <td>Employed full-time</td>\n",
              "      <td>0.731</td>\n",
              "    </tr>\n",
              "    <tr>\n",
              "      <th>1</th>\n",
              "      <td>Argentina</td>\n",
              "      <td>Employed part-time</td>\n",
              "      <td>0.068</td>\n",
              "    </tr>\n",
              "    <tr>\n",
              "      <th>2</th>\n",
              "      <td>Argentina</td>\n",
              "      <td>Independent contractor, freelancer, or self-em...</td>\n",
              "      <td>0.182</td>\n",
              "    </tr>\n",
              "    <tr>\n",
              "      <th>3</th>\n",
              "      <td>Argentina</td>\n",
              "      <td>Not employed, but looking for work</td>\n",
              "      <td>0.018</td>\n",
              "    </tr>\n",
              "    <tr>\n",
              "      <th>4</th>\n",
              "      <td>Australia</td>\n",
              "      <td>Employed full-time</td>\n",
              "      <td>0.844</td>\n",
              "    </tr>\n",
              "    <tr>\n",
              "      <th>...</th>\n",
              "      <td>...</td>\n",
              "      <td>...</td>\n",
              "      <td>...</td>\n",
              "    </tr>\n",
              "    <tr>\n",
              "      <th>200</th>\n",
              "      <td>United States</td>\n",
              "      <td>Employed part-time</td>\n",
              "      <td>0.018</td>\n",
              "    </tr>\n",
              "    <tr>\n",
              "      <th>201</th>\n",
              "      <td>United States</td>\n",
              "      <td>Independent contractor, freelancer, or self-em...</td>\n",
              "      <td>0.060</td>\n",
              "    </tr>\n",
              "    <tr>\n",
              "      <th>202</th>\n",
              "      <td>United States</td>\n",
              "      <td>Not employed, and not looking for work</td>\n",
              "      <td>0.003</td>\n",
              "    </tr>\n",
              "    <tr>\n",
              "      <th>203</th>\n",
              "      <td>United States</td>\n",
              "      <td>Not employed, but looking for work</td>\n",
              "      <td>0.019</td>\n",
              "    </tr>\n",
              "    <tr>\n",
              "      <th>204</th>\n",
              "      <td>United States</td>\n",
              "      <td>Retired</td>\n",
              "      <td>0.002</td>\n",
              "    </tr>\n",
              "  </tbody>\n",
              "</table>\n",
              "<p>205 rows × 3 columns</p>\n",
              "</div>"
            ],
            "text/plain": [
              "           Country  ... Respondent Percentage\n",
              "0        Argentina  ...                 0.731\n",
              "1        Argentina  ...                 0.068\n",
              "2        Argentina  ...                 0.182\n",
              "3        Argentina  ...                 0.018\n",
              "4        Australia  ...                 0.844\n",
              "..             ...  ...                   ...\n",
              "200  United States  ...                 0.018\n",
              "201  United States  ...                 0.060\n",
              "202  United States  ...                 0.003\n",
              "203  United States  ...                 0.019\n",
              "204  United States  ...                 0.002\n",
              "\n",
              "[205 rows x 3 columns]"
            ]
          },
          "metadata": {
            "tags": []
          },
          "execution_count": 69
        }
      ]
    },
    {
      "cell_type": "code",
      "metadata": {
        "id": "3leyUig3dFdk",
        "colab_type": "code",
        "outputId": "d714f288-8e00-4e5d-ebc2-0ad053ca9710",
        "colab": {
          "base_uri": "https://localhost:8080/",
          "height": 961
        }
      },
      "source": [
        "# We can now pivot the data\n",
        "dev_data_pivot_emp = pd.pivot(dev_data_40_aggregate_emp, index='Country', values='Respondent Percentage', columns='Employment').sort_values('Employed full-time', ascending=False)\n",
        "\n",
        "# Next, we vsualize our data\n",
        "plot_data(dev_data_pivot_emp, 'bar', (15, 15), 'Country', 'The Percentage of Employment by Country')"
      ],
      "execution_count": 73,
      "outputs": [
        {
          "output_type": "display_data",
          "data": {
            "image/png": "[encoded data removed]",
            "text/plain": [
              "<Figure size 1080x1080 with 1 Axes>"
            ]
          },
          "metadata": {
            "tags": [],
            "needs_background": "light"
          }
        }
      ]
    },
    {
      "cell_type": "markdown",
      "metadata": {
        "id": "3PpAdK_Rql5x",
        "colab_type": "text"
      },
      "source": [
        "From our visualization, we see that **most developers in the top 40 countries are 'employed full-time'**. Evidently, **Norway has the most developers who are employed full-time at about 95%.** This is closely followed by **India, Ireland and Bulgaria at about 90% of developers** who are empoyed full-time. The **lowest country with developers who are 'employed full-time' is Nigeria at about 58%**, and it has the **highest number at over 10% of developers who say they are 'not employed but looking for work'** from the survey. **Iran has the highest number of developers who say they are 'not employed, and not looking for work**'. Lastly, **Switzerland has the highest number of developers who are 'employed part-time'.**"
      ]
    },
    {
      "cell_type": "markdown",
      "metadata": {
        "id": "78W7zUbhCAkN",
        "colab_type": "text"
      },
      "source": [
        "# 4.0 Conclusion"
      ]
    },
    {
      "cell_type": "markdown",
      "metadata": {
        "id": "_lY4Vxodtc1Q",
        "colab_type": "text"
      },
      "source": [
        "In summary, the following conclusions can be drawn from our analysis of the 2019 Stack Overflow Developer Survey:\n",
        "\n",
        "+ The **majority of developers work from the office** with Denmark and Finland having the highest number of developers who lay such claim. \n",
        "+ **Most developers say they use the Windows operating system**. Developers from South Africa and Pakistan lead in the percentage of developers in this category.\n",
        "+ On employment, we learn that **a substantial number of developers are 'employed full-time'**. The highest is Norway at about 95% and the lowest is Nigeria at about 58% who fall under this category'.\n"
      ]
    }
  ]
}